{
  "nbformat": 4,
  "nbformat_minor": 0,
  "metadata": {
    "colab": {
      "name": "01.Pre-process Texts.ipynb",
      "provenance": [],
      "collapsed_sections": []
    },
    "kernelspec": {
      "name": "python3",
      "display_name": "Python 3"
    },
    "language_info": {
      "name": "python"
    }
  },
  "cells": [
    {
      "cell_type": "markdown",
      "source": [
        "The IMDB dataset comes from https://ai.stanford.edu/~amaas/data/sentiment/"
      ],
      "metadata": {
        "id": "a-jzTWXdOzov"
      }
    },
    {
      "cell_type": "code",
      "execution_count": 1,
      "metadata": {
        "id": "2uCv6Yd2Uqn0"
      },
      "outputs": [],
      "source": [
        "import os\n",
        "import re\n",
        "import numpy as np\n",
        "import torch\n",
        "from torch.utils.data import DataLoader, Dataset"
      ]
    },
    {
      "cell_type": "markdown",
      "source": [
        "**Download Dataset**"
      ],
      "metadata": {
        "id": "40sbsmuzoTr-"
      }
    },
    {
      "cell_type": "code",
      "source": [
        "!wget https://ai.stanford.edu/~amaas/data/sentiment/aclImdb_v1.tar.gz"
      ],
      "metadata": {
        "id": "znKs7--VPM_N"
      },
      "execution_count": null,
      "outputs": []
    },
    {
      "cell_type": "code",
      "source": [
        "!tar -zxvf aclImdb_v1.tar.gz"
      ],
      "metadata": {
        "id": "XDzuRQLSPZFb"
      },
      "execution_count": null,
      "outputs": []
    },
    {
      "cell_type": "markdown",
      "source": [
        "**Tokenlization**  \n",
        "Fileter special characters and return a list with each word to be its element"
      ],
      "metadata": {
        "id": "RsZFaYVpn5dZ"
      }
    },
    {
      "cell_type": "code",
      "source": [
        "def tokenlize(content):\n",
        "  content = re.sub('<.*?>', ' ',content)\n",
        "  filters = ['\\.', ':', '\\t', '\\n', '\\x97', '\\x96', '#', '$', '%', '&']\n",
        "  content = re.sub('|'.join(filters), ' ', content)\n",
        "  tokens = [i.strip().lower() for i in content.split()]\n",
        "  return tokens"
      ],
      "metadata": {
        "id": "01hhw0mUDX3Y"
      },
      "execution_count": 2,
      "outputs": []
    },
    {
      "cell_type": "code",
      "source": [
        "class ImdbDataset(Dataset):\n",
        "  def __init__(self, train_path, test_path, train=True):\n",
        "    self.train_data_path = train_path\n",
        "    self.test_data_path = test_path\n",
        "    data_path  = self.train_data_path if train else self.test_data_path\n",
        "\n",
        "    # add all file names into a list\n",
        "    temp_data_path = [os.path.join(data_path, 'pos'), os.path.join(data_path, 'neg')]\n",
        "    self.total_file_path = []  # path to all dataset\n",
        "    for path in temp_data_path:\n",
        "      file_name_list = os.listdir(path)\n",
        "      file_path_list = [os.path.join(path, file_name) for file_name in file_name_list if file_name.endswith('.txt')]\n",
        "      self.total_file_path.extend(file_path_list)\n",
        "\n",
        "\n",
        "\n",
        "  def __getitem__(self, index):\n",
        "    # get label\n",
        "    file_path = self.total_file_path[index]\n",
        "    label_str = file_path.split(\"/\")[-2]\n",
        "    label = 0 if label_str == 'neg' else 1\n",
        "    # get content\n",
        "    content = open(file_path).read()\n",
        "    tokens = tokenlize(content)\n",
        "    return tokens, label\n",
        "  \n",
        "  def __len__(self):\n",
        "    return len(self.total_file_path)"
      ],
      "metadata": {
        "id": "iCMjmyBrAAml"
      },
      "execution_count": 3,
      "outputs": []
    },
    {
      "cell_type": "code",
      "source": [
        "def collate_fn(batch):\n",
        "  '''\n",
        "  :param batch: (retVal of getitem [tokens,label], retVal of getitem ...)\n",
        "  :return:\n",
        "  '''\n",
        "  content, label = list(zip(*batch))\n",
        "  return content, label"
      ],
      "metadata": {
        "id": "iZGZqdRyRzky"
      },
      "execution_count": 4,
      "outputs": []
    },
    {
      "cell_type": "code",
      "source": [
        "imdb_dataset = ImdbDataset(train_path='/content/aclImdb/train', test_path='/content/aclImdb/test')\n",
        "data_loader = DataLoader(imdb_dataset, batch_size=1, shuffle=True)"
      ],
      "metadata": {
        "id": "pfYZUHIpPvxt"
      },
      "execution_count": 5,
      "outputs": []
    },
    {
      "cell_type": "code",
      "source": [
        "for idx, (input, target) in enumerate(data_loader):\n",
        "  print(idx)\n",
        "  print(input)\n",
        "  print(target)\n",
        "  break"
      ],
      "metadata": {
        "colab": {
          "base_uri": "https://localhost:8080/"
        },
        "id": "xtg32GzvQnhU",
        "outputId": "44f4c1df-b1c3-4689-9cb4-9a8b1c07b78f"
      },
      "execution_count": 6,
      "outputs": [
        {
          "output_type": "stream",
          "name": "stdout",
          "text": [
            "0\n",
            "[('young',), ('mr',), ('lincoln',), ('marks',), ('the',), ('first',), ('film',), ('of',), ('the',), ('director/star',), ('collaboration',), ('of',), ('john',), ('ford',), ('and',), ('henry',), ('fonda',), ('i',), ('recall',), ('years',), ('ago',), ('fonda',), ('telling',), ('that',), ('as',), ('a',), ('young',), ('actor',), ('he',), ('was',), ('understandably',), ('nervous',), ('about',), ('playing',), ('abraham',), ('lincoln',), ('and',), ('scared',), ('he',), (\"wouldn't\",), ('live',), ('up',), ('to',), ('the',), ('challenge',), ('john',), ('ford',), ('before',), ('the',), ('shooting',), ('starts',), ('put',), ('him',), ('at',), ('ease',), ('by',), ('saying',), ('he',), (\"wasn't\",), ('going',), ('to',), ('be',), ('playing',), ('the',), ('great',), ('emancipator,',), ('but',), ('just',), ('a',), ('jack-leg',), ('prairie',), ('lawyer',), ('that',), ('being',), ('settled',), ('fonda',), ('headed',), ('a',), ('cast',), ('that',), ('john',), ('ford',), ('directed',), ('into',), ('a',), ('classic',), ('film',), ('this',), ('is',), ('not',), ('a',), ('biographical',), ('film',), ('of',), ('lincoln',), ('that',), ('had',), ('come',), ('before',), ('in',), ('the',), ('sound',), ('era',), ('with',), ('walter',), ('huston',), ('and',), ('a',), ('year',), ('after',), ('young',), ('mr',), ('lincoln,',), ('raymond',), ('massey',), ('did',), ('the',), ('pulitzer',), ('prize',), ('winning',), ('play',), ('by',), ('robert',), ('sherwood',), ('abe',), ('lincoln',), ('in',), ('illinois',), ('massey',), ('still',), ('remains',), ('the',), ('definitive',), ('lincoln',), ('but',), ('as',), ('ford',), ('said,',), ('fonda',), (\"wasn't\",), ('playing',), ('the',), ('great',), ('emancipator',), ('just',), ('a',), ('small',), ('town',), ('lawyer',), ('in',), ('illinois',), ('the',), ('film',), ('encompasses',), ('about',), ('10',), ('years',), ('of',), (\"lincoln's\",), ('early',), ('life',), ('we',), ('see',), ('him',), ('clerking',), ('in',), ('a',), ('general',), ('store,',), ('getting',), ('some',), ('law',), ('books',), ('from',), ('an',), ('immigrant',), ('pioneer',), ('family',), ('whose',), ('path',), ('he',), ('would',), ('cross',), ('again',), ('later',), ('in',), ('the',), ('story',), ('and',), ('his',), ('romance',), ('with',), ('ann',), ('rutledge',), ('with',), ('her',), ('early',), ('death',), ('leaving',), ('lincoln',), ('a',), ('most',), ('melancholy',), ('being',), ('fast',), ('forward',), ('about',), ('10',), ('years',), ('and',), ('lincoln',), ('is',), ('now',), ('a',), ('practicing',), ('attorney',), ('beginning',), ('to',), ('get',), ('some',), ('notice',), (\"he's\",), ('served',), ('a',), ('couple',), ('of',), ('terms',), ('in',), ('the',), ('legislature,',), ('but',), (\"he's\",), ('back',), ('in',), ('private',), ('practice',), ('not',), ('really',), ('sure',), ('if',), ('politics',), ('is',), ('for',), ('him',), ('this',), ('is',), ('where',), ('the',), ('bulk',), ('of',), ('the',), ('action',), ('takes',), ('place',), ('the',), ('two',), ('sons',), ('of',), ('that',), ('family',), (\"he'd\",), ('gotten',), ('the',), ('law',), ('books',), ('from',), ('way',), ('back',), ('when',), ('are',), ('accused',), ('of',), ('murder',), ('he',), ('offers',), ('to',), ('defend',), ('them',), ('and',), ('not',), ('an',), ('ordinary',), ('murder',), ('but',), ('one',), ('of',), ('a',), ('deputy',), ('sheriff',), ('the',), ('trial',), ('itself',), ('is',), ('fiction,',), ('but',), ('the',), ('gambit',), ('used',), ('in',), ('the',), ('defense',), ('of',), ('richard',), ('cromwell',), ('and',), ('eddie',), ('quillan',), ('who',), ('played',), ('the',), ('two',), ('sons',), ('is',), ('based',), ('on',), ('a',), ('real',), ('case',), ('lincoln',), ('defended',), (\"i'll\",), ('say',), ('no',), ('more',), ('other',), ('than',), ('the',), ('performances,',), ('the',), ('great',), ('strength',), ('of',), ('young',), ('mr',), ('lincoln',), ('is',), ('the',), ('way',), ('john',), ('ford',), ('captures',), ('the',), ('mood',), ('and',), ('atmosphere',), ('and',), ('setting',), ('of',), ('a',), ('small',), ('illinois',), ('prairie',), ('town',), ('in',), ('a',), ('fourth',), ('of',), ('july',), ('celebration',), (\"it's\",), ('almost',), ('like',), (\"you're\",), ('watching',), ('a',), ('newsreel',), ('and',), ('it',), ('was',), ('the',), ('mood',), ('of',), ('the',), ('country',), ('itself,',), ('young,',), ('vibrant',), ('and',), ('growing',), ('fans',), ('of',), ('john',), ('ford',), ('films',), ('will',), ('recognize',), ('two',), ('musical',), ('themes',), ('here',), ('that',), ('were',), ('repeated',), ('in',), ('later',), ('films',), ('during',), ('the',), ('romantic',), ('interlude',), ('at',), ('the',), ('beginning',), ('with',), ('fonda',), ('and',), ('pauline',), ('moore',), ('who',), ('played',), ('ann',), ('rutledge',), ('the',), ('music',), ('in',), ('the',), ('background',), ('is',), ('the',), ('same',), ('theme',), ('used',), ('in',), ('the',), ('man',), ('who',), ('shot',), ('liberty',), ('valance',), ('for',), ('vera',), ('miles',), ('and',), ('at',), ('a',), ('dance,',), ('the',), ('tune',), ('lovely',), ('susan',), ('brown',), ('that',), ('fonda',), ('and',), ('marjorie',), ('weaver',), ('who',), ('plays',), ('mary',), ('todd',), ('is',), ('the',), ('same',), ('one',), ('fonda',), ('danced',), ('with',), ('cathy',), ('downs',), ('to,',), ('in',), ('my',), ('darling',), ('clementine',), ('at',), ('the',), ('dance',), ('for',), ('the',), ('raising',), ('of',), ('a',), ('church',), ('in',), ('tombstone',), ('lincoln',), ('will',), ('forever',), ('be',), ('a',), ('favorite',), ('subject',), ('of',), ('biographers',), ('and',), ('dramatists',), ('because',), ('of',), ('two',), ('reasons,',), ('i',), ('believe',), ('the',), ('first',), ('is',), (\"he's\",), ('the',), ('living',), ('embodiment',), ('of',), ('our',), ('own',), ('american',), ('mythology',), ('about',), ('people',), ('rising',), ('from',), ('the',), ('very',), ('bottom',), ('to',), ('the',), ('pinnacle',), ('of',), ('power',), ('through',), ('their',), ('own',), ('efforts',), ('in',), ('fact',), ('young',), ('mr',), ('lincoln',), ('very',), ('graphically',), ('shows',), ('the',), ('background',), ('lincoln',), ('came',), ('from',), ('and',), ('secondly',), ('the',), ('fact',), ('that',), ('he',), ('was',), ('our',), ('president',), ('during',), ('the',), ('greatest',), ('crisis',), ('in',), ('american',), ('history',), ('and',), ('that',), ('he',), ('made',), ('a',), ('singularly',), ('good',), ('and',), ('moral',), ('decision',), ('to',), ('free',), ('slaves',), ('during',), ('the',), ('civil',), ('war,',), ('albeit',), ('for',), ('some',), ('necessary',), ('political',), ('reasons',), ('his',), ('assassination',), ('assured',), ('his',), ('place',), ('in',), ('history',), ('besides',), ('fonda',), ('and',), ('others',), (\"i've\",), ('mentioned',), ('special',), ('praise',), ('should',), ('also',), ('go',), ('to',), ('fred',), ('kohler,',), ('jr',), ('and',), ('ward',), ('bond,',), ('the',), ('two',), ('town',), ('louts,',), ('kohler',), ('being',), ('the',), ('murder',), ('victim',), ('and',), ('bond',), ('the',), ('chief',), ('accuser',), ('also',), ('donald',), ('meek',), ('as',), ('the',), ('prosecuting',), ('attorney',), ('and',), ('alice',), ('brady',), ('in',), ('what',), ('turned',), ('out',), ('to',), ('be',), ('her',), ('last',), ('film',), ('as',), ('the',), ('pioneer',), ('mother',), ('of',), ('cromwell',), ('and',), ('quillan',), ('and',), ('a',), ('very',), ('nice',), ('performance',), ('by',), ('spencer',), ('charters',), ('who',), ('specialized',), ('in',), ('rustic',), ('characters',), ('as',), ('the',), ('judge',), ('for',), ('a',), ('film',), ('that',), ('captures',), ('the',), ('drama',), ('and',), ('romance',), ('of',), ('the',), ('time',), (\"it's\",), ('set',), ('in,',), ('you',), (\"can't\",), ('do',), ('better',), ('than',), ('young',), ('mr',), ('lincoln',)]\n",
            "tensor([1])\n"
          ]
        }
      ]
    },
    {
      "cell_type": "markdown",
      "source": [
        "**Word to Sequence**"
      ],
      "metadata": {
        "id": "kmsD9uVywWhO"
      }
    },
    {
      "cell_type": "code",
      "source": [
        "class Word2Sequence():\n",
        "  UNK_TAG = 'UNK'\n",
        "  PAD_TAG = 'PAD'\n",
        "\n",
        "  UNK = 0\n",
        "  PAD = 1\n",
        "\n",
        "  def __init__(self):\n",
        "    self.dict = {\n",
        "        self.UNK_TAG : self.UNK,\n",
        "        self.PAD_TAG : self.PAD\n",
        "    }\n",
        "    self.count = {}\n",
        "  \n",
        "  def fit(self, sentence):\n",
        "    '''save sentence into dict\n",
        "    :param sentence: [word1, word2, word3 ...]\n",
        "    '''\n",
        "    for word in sentence:\n",
        "      self.count[word] = self.count.get(word, 0) + 1\n",
        "  \n",
        "  def build_vocab(self, min=None, max=None, max_features=None):\n",
        "    '''\n",
        "    Build dictionary\n",
        "    :param min:\n",
        "    :param max:\n",
        "    :param max_features:\n",
        "    :return:\n",
        "    '''\n",
        "    # delete words in count where frequency is less than min\n",
        "    if min is not None:\n",
        "      self.count = {word : value for word, value in self.count.items() if value > min}\n",
        "\n",
        "    # delete words in count where frequency is greater than max\n",
        "    if max is not None:\n",
        "      self.count = {word : value for word, value in self.count.items() if value < max}\n",
        "    \n",
        "    # limit number of vocobulary in count\n",
        "    if max_features is not None:\n",
        "      temp = sorted(self.count.items(), key=lambda x : x[-1], reverse=True)[:max_features]\n",
        "      self.count = dict(temp)\n",
        "    \n",
        "    for word in self.count:\n",
        "      self.dict[word] = len(self.dict)\n",
        "    \n",
        "    self.inversed_dict = dict(zip(self.dict.values(), self.dict.keys()))\n",
        "  \n",
        "  def transform(self, sentence, max_len=None):\n",
        "    '''\n",
        "    Sentence 2 Sequence\n",
        "    :param sentence: [word1, word2, ...]\n",
        "    :param max_len: int, if add dummy / cut the sentence\n",
        "    :return:\n",
        "    '''\n",
        "    if max_len is not None:\n",
        "      if max_len > len(sentence):\n",
        "        sentence += [self.PAD_TAG]*(max_len-len(sentence))\n",
        "      elif max_len < len(sentence):\n",
        "        sentence = sentence[:max_len]\n",
        "    \n",
        "    return [self.dict.get(word, self.UNK) for word in sentence]\n",
        "  \n",
        "  def inverse_transform(self, indices):\n",
        "    '''\n",
        "    Sequence 2 Sentence\n",
        "    :param indices: [1, 2, 3, 4, ...]\n",
        "    :return:\n",
        "    '''\n",
        "    return [self.inversed_dict.get(idx) for idx in indices]"
      ],
      "metadata": {
        "id": "bRu1ccCBgx8b"
      },
      "execution_count": 7,
      "outputs": []
    },
    {
      "cell_type": "code",
      "source": [
        "ws = Word2Sequence()\n",
        "str = 'I like machine learning'\n",
        "tok = tokenlize(str)\n",
        "ws.fit(tok)\n",
        "\n",
        "str = 'Today\\'s weather is good'\n",
        "tok = tokenlize(str)\n",
        "ws.fit(tok)\n",
        "ws.build_vocab()\n",
        "print(ws.dict)"
      ],
      "metadata": {
        "colab": {
          "base_uri": "https://localhost:8080/"
        },
        "id": "4x2TRQSslg2w",
        "outputId": "80868619-f988-4ef9-f51c-524f91f78b44"
      },
      "execution_count": 8,
      "outputs": [
        {
          "output_type": "stream",
          "name": "stdout",
          "text": [
            "{'UNK': 0, 'PAD': 1, 'i': 2, 'like': 3, 'machine': 4, 'learning': 5, \"today's\": 6, 'weather': 7, 'is': 8, 'good': 9}\n"
          ]
        }
      ]
    },
    {
      "cell_type": "code",
      "source": [
        "str = 'I like today\\'s beautiful weather'\n",
        "tok = tokenlize(str)\n",
        "print(tok)\n",
        "ret = ws.transform(tok, max_len=10)\n",
        "print(ret)"
      ],
      "metadata": {
        "colab": {
          "base_uri": "https://localhost:8080/"
        },
        "id": "yCNiM72irCdK",
        "outputId": "d951c96f-fdb6-4022-a986-df640d45812e"
      },
      "execution_count": 9,
      "outputs": [
        {
          "output_type": "stream",
          "name": "stdout",
          "text": [
            "['i', 'like', \"today's\", 'beautiful', 'weather']\n",
            "[2, 3, 6, 0, 7, 1, 1, 1, 1, 1]\n"
          ]
        }
      ]
    },
    {
      "cell_type": "code",
      "source": [
        "ret = ws.inverse_transform(ret)\n",
        "print(ret)"
      ],
      "metadata": {
        "colab": {
          "base_uri": "https://localhost:8080/"
        },
        "id": "MjLFh3GDrqWt",
        "outputId": "dae405f5-6034-41fd-af38-e1085c9d30c4"
      },
      "execution_count": 10,
      "outputs": [
        {
          "output_type": "stream",
          "name": "stdout",
          "text": [
            "['i', 'like', \"today's\", 'UNK', 'weather', 'PAD', 'PAD', 'PAD', 'PAD', 'PAD']\n"
          ]
        }
      ]
    }
  ]
}