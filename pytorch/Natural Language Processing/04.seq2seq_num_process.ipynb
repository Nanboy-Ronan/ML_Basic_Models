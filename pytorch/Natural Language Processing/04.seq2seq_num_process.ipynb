{
  "nbformat": 4,
  "nbformat_minor": 0,
  "metadata": {
    "colab": {
      "name": "seq2seq_demo.ipynb",
      "provenance": []
    },
    "kernelspec": {
      "name": "python3",
      "display_name": "Python 3"
    },
    "language_info": {
      "name": "python"
    }
  },
  "cells": [
    {
      "cell_type": "code",
      "execution_count": null,
      "metadata": {
        "id": "F4-HzXrhlU37"
      },
      "outputs": [],
      "source": [
        "import numpy as np\n",
        "import torch\n",
        "import torch.nn as nn\n",
        "from torch.utils.data import DataLoader, Dataset"
      ]
    },
    {
      "cell_type": "markdown",
      "source": [
        "**HyperParameters**"
      ],
      "metadata": {
        "id": "HpqBKoeHqWbb"
      }
    },
    {
      "cell_type": "code",
      "source": [
        "train_batch_size = 128\n",
        "max_len = 9"
      ],
      "metadata": {
        "id": "80McYKdYn7JF"
      },
      "execution_count": null,
      "outputs": []
    },
    {
      "cell_type": "markdown",
      "source": [
        "**Num_Sequence**"
      ],
      "metadata": {
        "id": "t5szCX6Bqfap"
      }
    },
    {
      "cell_type": "code",
      "source": [
        "class Num_sequence:\n",
        "  UNK_TAG = 'UNK'\n",
        "  PAD_TAG = 'PAD'\n",
        "  SOS_TAG = 'SOS' # start of sequence\n",
        "  EOS_TAG = 'EOS' # end of sequence\n",
        "\n",
        "  UNK = 0\n",
        "  PAD = 1\n",
        "  SOS = 2\n",
        "  EOS = 3\n",
        "\n",
        "  def __init__(self) -> None:\n",
        "    self.dict = {\n",
        "        self.PAD_TAG : self.PAD,\n",
        "        self.UNK_TAG : self.UNK,\n",
        "        self.SOS_TAG : self.SOS,\n",
        "        self.EOS_TAG : self.EOS,\n",
        "         }\n",
        "\n",
        "    for i in range(10):\n",
        "      self.dict[str(i)] = len(self.dict)\n",
        "    \n",
        "    self.inverse_dict = dict(zip(self.dict.values(), self.dict.keys()))\n",
        "  \n",
        "  def transform(self, sentence, max_len, add_eos=False):\n",
        "    '''sentence 2 number\n",
        "    add_eos: True: sentence length = max_len + 1\n",
        "    add_eos: False: sentence length = max_len\n",
        "    \n",
        "    '''\n",
        "    if len(sentence) > max_len: # cut if sentence > max_len\n",
        "      sentence = sentence[:max_len]\n",
        "\n",
        "    sentence_len = len(sentence)  # must calculate lenth of sentence previously\n",
        "      \n",
        "    if add_eos:\n",
        "      sentence = sentence + [self.EOS_TAG]\n",
        "\n",
        "    if sentence_len < max_len: # add padding if sentence < max_len\n",
        "      sentence = sentence + [self.PAD_TAG]*(max_len-sentence_len)\n",
        "\n",
        "\n",
        "    result = [self.dict.get(i, self.UNK) for i in sentence]\n",
        "\n",
        "    return result\n",
        "  \n",
        "  def inverse_transform(self, indices):\n",
        "    '''seq 2 sentence'''\n",
        "    [self.inverse_dict.get(i, self.UNK_TAG) for i in indices]"
      ],
      "metadata": {
        "id": "EhZBqo7wqiQh"
      },
      "execution_count": null,
      "outputs": []
    },
    {
      "cell_type": "code",
      "source": [
        "num_sequence = Num_sequence()"
      ],
      "metadata": {
        "id": "qu9UyKX0urPq"
      },
      "execution_count": null,
      "outputs": []
    },
    {
      "cell_type": "code",
      "source": [
        "num_sequence.dict"
      ],
      "metadata": {
        "id": "t0I4gr_JxJbv",
        "colab": {
          "base_uri": "https://localhost:8080/"
        },
        "outputId": "548e20de-6a93-44c8-94bc-1234a3316865"
      },
      "execution_count": null,
      "outputs": [
        {
          "output_type": "execute_result",
          "data": {
            "text/plain": [
              "{'0': 4,\n",
              " '1': 5,\n",
              " '2': 6,\n",
              " '3': 7,\n",
              " '4': 8,\n",
              " '5': 9,\n",
              " '6': 10,\n",
              " '7': 11,\n",
              " '8': 12,\n",
              " '9': 13,\n",
              " 'EOS': 3,\n",
              " 'PAD': 1,\n",
              " 'SOS': 2,\n",
              " 'UNK': 0}"
            ]
          },
          "metadata": {},
          "execution_count": 6
        }
      ]
    },
    {
      "cell_type": "markdown",
      "source": [
        "**Dataset**  \n",
        "Prepare dataset and dataloader"
      ],
      "metadata": {
        "id": "EkMDv27gldpo"
      }
    },
    {
      "cell_type": "code",
      "source": [
        "class NumDataset(Dataset):\n",
        "  def __init__(self):\n",
        "    # generate random number with numpy\n",
        "    self.data = np.random.randint(0, 1e8, size=[500000])\n",
        "  \n",
        "  def __getitem__(self, index):\n",
        "    input = list(str(self.data[index]))\n",
        "    label = input + ['0']\n",
        "    input_length = len(input)\n",
        "    label_length = len(label)\n",
        "    return input, label, input_length, label_length\n",
        "  \n",
        "\n",
        "  def __len__(self):\n",
        "    return len(self.data)"
      ],
      "metadata": {
        "id": "0IdOMtxrlfum"
      },
      "execution_count": null,
      "outputs": []
    },
    {
      "cell_type": "code",
      "source": [
        "def collate_fn(batch):\n",
        "  '''\n",
        "  :param batch: [(input, label, input_length, label_length), (input, label, input_length, label_length)]\n",
        "  :return:\n",
        "  '''\n",
        "\n",
        "  batch = sorted(batch, key=lambda x: x[3], reverse=True) # big -> small\n",
        "  \n",
        "  input, target, input_length, target_length = zip(*batch)\n",
        "\n",
        "  input = [num_sequence.transform(i, max_len=max_len) for i in input]\n",
        "  target = [num_sequence.transform(i, max_len=max_len+1) for i in target]\n",
        "\n",
        "  input = torch.LongTensor(input)\n",
        "  target = torch.LongTensor(target)\n",
        "  input_length = torch.LongTensor(input_length)\n",
        "  target_length = torch.LongTensor(target_length)\n",
        "\n",
        "\n",
        "  return input, target, input_length, target_length"
      ],
      "metadata": {
        "id": "i7aJ2Kdyoa5C"
      },
      "execution_count": null,
      "outputs": []
    },
    {
      "cell_type": "code",
      "source": [
        "data_set = NumDataset()\n",
        "train_data_loader = DataLoader(data_set, batch_size=train_batch_size, shuffle=True, collate_fn=collate_fn)"
      ],
      "metadata": {
        "id": "ZiH0_HS4ns18"
      },
      "execution_count": null,
      "outputs": []
    },
    {
      "cell_type": "code",
      "source": [
        "for input, target, input_length, target_length in train_data_loader:\n",
        "  print(input)\n",
        "  print('*'*10)\n",
        "  print(target)\n",
        "  print('*'*10)\n",
        "  print(input_length)\n",
        "  print('*'*10)\n",
        "  print(target_length)\n",
        "  break"
      ],
      "metadata": {
        "colab": {
          "base_uri": "https://localhost:8080/"
        },
        "id": "lSrN2eXfu0u0",
        "outputId": "14b58090-11ae-461d-e6c8-f2a33f950ab7"
      },
      "execution_count": null,
      "outputs": [
        {
          "output_type": "stream",
          "name": "stdout",
          "text": [
            "tensor([[ 6,  6,  7,  ..., 10,  9,  1],\n",
            "        [ 6,  4,  7,  ...,  6,  8,  1],\n",
            "        [ 5, 13,  6,  ...,  6, 13,  1],\n",
            "        ...,\n",
            "        [ 5, 13,  7,  ...,  9,  1,  1],\n",
            "        [ 6,  8,  6,  ..., 13,  1,  1],\n",
            "        [13,  5,  7,  ...,  1,  1,  1]])\n",
            "**********\n",
            "tensor([[ 6,  6,  7,  ...,  9,  4,  1],\n",
            "        [ 6,  4,  7,  ...,  8,  4,  1],\n",
            "        [ 5, 13,  6,  ..., 13,  4,  1],\n",
            "        ...,\n",
            "        [ 5, 13,  7,  ...,  4,  1,  1],\n",
            "        [ 6,  8,  6,  ...,  4,  1,  1],\n",
            "        [13,  5,  7,  ...,  1,  1,  1]])\n",
            "**********\n",
            "tensor([8, 8, 8, 8, 8, 8, 8, 8, 8, 8, 8, 8, 8, 8, 8, 8, 8, 8, 8, 8, 8, 8, 8, 8,\n",
            "        8, 8, 8, 8, 8, 8, 8, 8, 8, 8, 8, 8, 8, 8, 8, 8, 8, 8, 8, 8, 8, 8, 8, 8,\n",
            "        8, 8, 8, 8, 8, 8, 8, 8, 8, 8, 8, 8, 8, 8, 8, 8, 8, 8, 8, 8, 8, 8, 8, 8,\n",
            "        8, 8, 8, 8, 8, 8, 8, 8, 8, 8, 8, 8, 8, 8, 8, 8, 8, 8, 8, 8, 8, 8, 8, 8,\n",
            "        8, 8, 8, 8, 8, 8, 8, 8, 8, 8, 8, 8, 8, 8, 8, 8, 8, 8, 7, 7, 7, 7, 7, 7,\n",
            "        7, 7, 7, 7, 7, 7, 7, 5])\n",
            "**********\n",
            "tensor([9, 9, 9, 9, 9, 9, 9, 9, 9, 9, 9, 9, 9, 9, 9, 9, 9, 9, 9, 9, 9, 9, 9, 9,\n",
            "        9, 9, 9, 9, 9, 9, 9, 9, 9, 9, 9, 9, 9, 9, 9, 9, 9, 9, 9, 9, 9, 9, 9, 9,\n",
            "        9, 9, 9, 9, 9, 9, 9, 9, 9, 9, 9, 9, 9, 9, 9, 9, 9, 9, 9, 9, 9, 9, 9, 9,\n",
            "        9, 9, 9, 9, 9, 9, 9, 9, 9, 9, 9, 9, 9, 9, 9, 9, 9, 9, 9, 9, 9, 9, 9, 9,\n",
            "        9, 9, 9, 9, 9, 9, 9, 9, 9, 9, 9, 9, 9, 9, 9, 9, 9, 9, 8, 8, 8, 8, 8, 8,\n",
            "        8, 8, 8, 8, 8, 8, 8, 6])\n"
          ]
        }
      ]
    }
  ]
}