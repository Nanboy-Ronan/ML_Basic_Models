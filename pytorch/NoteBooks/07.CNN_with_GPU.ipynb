{
  "nbformat": 4,
  "nbformat_minor": 0,
  "metadata": {
    "colab": {
      "name": "CNN with GPU.ipynb",
      "provenance": []
    },
    "kernelspec": {
      "name": "python3",
      "display_name": "Python 3"
    },
    "language_info": {
      "name": "python"
    },
    "accelerator": "GPU"
  },
  "cells": [
    {
      "cell_type": "code",
      "execution_count": 17,
      "metadata": {
        "id": "QAI0I7uXt9Ne"
      },
      "outputs": [],
      "source": [
        "import os"
      ]
    },
    {
      "cell_type": "code",
      "source": [
        "import torch\n",
        "import torch.nn as nn\n",
        "import torch.utils.data as Data\n",
        "import torchvision      # dataset\n",
        "import matplotlib.pyplot as plt"
      ],
      "metadata": {
        "id": "ngWgyVyIuUfW"
      },
      "execution_count": 18,
      "outputs": []
    },
    {
      "cell_type": "code",
      "source": [
        "# Hyper Parameters\n",
        "EPOCH = 1               # train the training data n times, to save time, we just train 1 epoch\n",
        "BATCH_SIZE = 50\n",
        "LR = 0.001              # learning rate\n",
        "\n",
        "if not(os.path.exists('./mnist/')) or not os.listdir('./mnist/'):\n",
        "    # not mnist dir or mnist is empyt dir\n",
        "    DOWNLOAD_MNIST = True"
      ],
      "metadata": {
        "id": "ibzKMGX7uWiU"
      },
      "execution_count": 19,
      "outputs": []
    },
    {
      "cell_type": "code",
      "source": [
        "# download data\n",
        "train_data = torchvision.datasets.MNIST(\n",
        "    root='./mnist',\n",
        "    train=True, # training data\n",
        "    transform=torchvision.transforms.ToTensor(), # Converts a PIL.Image or numpy.ndarray; torch.FloatTensor of shape (C x H x W) and normalize in the range [0.0, 1.0]\n",
        "    download=DOWNLOAD_MNIST\n",
        "\n",
        ")"
      ],
      "metadata": {
        "id": "MQSQpA1auYPr"
      },
      "execution_count": 20,
      "outputs": []
    },
    {
      "cell_type": "code",
      "source": [
        "# plot one example\n",
        "print(train_data.train_data.size())                 # (60000, 28, 28)\n",
        "print(train_data.train_labels.size())               # (60000)\n",
        "plt.imshow(train_data.train_data[0].numpy(), cmap='gray')\n",
        "plt.title('%i' % train_data.train_labels[0])\n",
        "plt.show()"
      ],
      "metadata": {
        "colab": {
          "base_uri": "https://localhost:8080/",
          "height": 385
        },
        "id": "HQkHcco0uaE7",
        "outputId": "f86a6861-d622-435b-e5e9-f2b5d0912063"
      },
      "execution_count": 21,
      "outputs": [
        {
          "output_type": "stream",
          "name": "stdout",
          "text": [
            "torch.Size([60000, 28, 28])\n",
            "torch.Size([60000])\n"
          ]
        },
        {
          "output_type": "stream",
          "name": "stderr",
          "text": [
            "/usr/local/lib/python3.7/dist-packages/torchvision/datasets/mnist.py:62: UserWarning: train_data has been renamed data\n",
            "  warnings.warn(\"train_data has been renamed data\")\n",
            "/usr/local/lib/python3.7/dist-packages/torchvision/datasets/mnist.py:52: UserWarning: train_labels has been renamed targets\n",
            "  warnings.warn(\"train_labels has been renamed targets\")\n"
          ]
        },
        {
          "output_type": "display_data",
          "data": {
            "image/png": "[encoded data removed]",
            "text/plain": [
              "<Figure size 432x288 with 1 Axes>"
            ]
          },
          "metadata": {
            "needs_background": "light"
          }
        }
      ]
    },
    {
      "cell_type": "code",
      "source": [
        "# load training data\n",
        "train_loader = Data.DataLoader(dataset=train_data,shuffle=True,batch_size=BATCH_SIZE,num_workers=2)"
      ],
      "metadata": {
        "id": "gQFEvDM4uc1D"
      },
      "execution_count": 22,
      "outputs": []
    },
    {
      "cell_type": "code",
      "source": [
        "# load test data\n",
        "#################### Change Here ########################\n",
        "test_data = torchvision.datasets.MNIST(root='./mnist',train=False)\n",
        "test_x = torch.unsqueeze(test_data.test_data, dim=1).type(torch.FloatTensor)[:2000].cuda()/255.   # shape from (2000, 28, 28) to (2000, 1, 28, 28), value in range(0,1)\n",
        "test_y = test_data.test_labels[:2000].cuda()"
      ],
      "metadata": {
        "colab": {
          "base_uri": "https://localhost:8080/"
        },
        "id": "X4f92U0YvWsD",
        "outputId": "0124565e-65ec-497a-ec39-b10de2af8b11"
      },
      "execution_count": 23,
      "outputs": [
        {
          "output_type": "stream",
          "name": "stderr",
          "text": [
            "/usr/local/lib/python3.7/dist-packages/torchvision/datasets/mnist.py:67: UserWarning: test_data has been renamed data\n",
            "  warnings.warn(\"test_data has been renamed data\")\n",
            "/usr/local/lib/python3.7/dist-packages/torchvision/datasets/mnist.py:57: UserWarning: test_labels has been renamed targets\n",
            "  warnings.warn(\"test_labels has been renamed targets\")\n"
          ]
        }
      ]
    },
    {
      "cell_type": "code",
      "source": [
        "# Define CNN\n",
        "class CNN(nn.Module):\n",
        "  def __init__(self):\n",
        "    super(CNN,self).__init__()  # (1,28,28)\n",
        "    # Convolusion layer 1: 2D fileter -> activation function -> pooling layer\n",
        "    self.conv1 = nn.Sequential(\n",
        "        nn.Conv2d(\n",
        "            in_channels=1, # input height; 1 for black and white photos\n",
        "            out_channels=16, # n_filters; 16 filters working simutaneously\n",
        "            kernel_size=5,   # filter size; 5x5 pixels\n",
        "            stride=1,    # filter movement/step\n",
        "            padding=2,    # padding=(kernel_size-1)/2 if stride=1\n",
        "        ),  # -> (16,28,28)\n",
        "        nn.ReLU(),  # -> (16,28,28)\n",
        "        nn.MaxPool2d(kernel_size=2),  # 2x2 -> (16,14,14)\n",
        "    )\n",
        "    self.conv2 = nn.Sequential( # (16,14,14)\n",
        "        nn.Conv2d(16,32,5,1,2), # -> (32,14,14)\n",
        "        nn.ReLU(),  # -> (32,14,14)\n",
        "        nn.MaxPool2d(2) # -> (32,7,7)\n",
        "    )\n",
        "    self.out = nn.Linear(32*7*7, 10)\n",
        "  \n",
        "  def forward(self,x):\n",
        "    x = self.conv1(x)\n",
        "    x = self.conv2(x) # (batch, 32, 7, 7)\n",
        "    x = x.view(x.size(0),-1)  # (batch, 32x7x7)\n",
        "    output = self.out(x)\n",
        "    return output"
      ],
      "metadata": {
        "id": "SIelLDqyvaVk"
      },
      "execution_count": 24,
      "outputs": []
    },
    {
      "cell_type": "code",
      "source": [
        "cnn = CNN()\n",
        "############## Change Here ####################\n",
        "cnn.cuda()\n",
        "##################################################\n",
        "print(cnn)"
      ],
      "metadata": {
        "colab": {
          "base_uri": "https://localhost:8080/"
        },
        "id": "q7ycwQkJvdkR",
        "outputId": "5963df31-ef72-448f-de44-b6e2fc714c12"
      },
      "execution_count": 25,
      "outputs": [
        {
          "output_type": "stream",
          "name": "stdout",
          "text": [
            "CNN(\n",
            "  (conv1): Sequential(\n",
            "    (0): Conv2d(1, 16, kernel_size=(5, 5), stride=(1, 1), padding=(2, 2))\n",
            "    (1): ReLU()\n",
            "    (2): MaxPool2d(kernel_size=2, stride=2, padding=0, dilation=1, ceil_mode=False)\n",
            "  )\n",
            "  (conv2): Sequential(\n",
            "    (0): Conv2d(16, 32, kernel_size=(5, 5), stride=(1, 1), padding=(2, 2))\n",
            "    (1): ReLU()\n",
            "    (2): MaxPool2d(kernel_size=2, stride=2, padding=0, dilation=1, ceil_mode=False)\n",
            "  )\n",
            "  (out): Linear(in_features=1568, out_features=10, bias=True)\n",
            ")\n"
          ]
        }
      ]
    },
    {
      "cell_type": "code",
      "source": [
        "optimizer = torch.optim.Adam(params=cnn.parameters(),lr=LR)\n",
        "loss_func = nn.CrossEntropyLoss()"
      ],
      "metadata": {
        "id": "jru0tEE0vnLp"
      },
      "execution_count": 26,
      "outputs": []
    },
    {
      "cell_type": "code",
      "source": [
        "# training and testing\n",
        "for epoch in range(EPOCH):\n",
        "    for step, (b_x, b_y) in enumerate(train_loader):   # gives batch data, normalize x when iterate train_loader\n",
        "        ################### Change Here #########################\n",
        "        b_x = b_x.cuda()\n",
        "        b_y = b_y.cuda()\n",
        "        #############################################################\n",
        "        output = cnn(b_x)               # cnn output\n",
        "        \n",
        "        loss = loss_func(output, b_y)   # cross entropy loss\n",
        "\n",
        "        optimizer.zero_grad()           # clear gradients for this training step\n",
        "        loss.backward()                 # backpropagation, compute gradients\n",
        "        optimizer.step()                # apply gradients\n",
        "\n",
        "        if step % 50 == 0:\n",
        "            test_output = cnn(test_x)\n",
        "            ############# Change Here #############\n",
        "            pred_y = torch.max(test_output, 1)[1].cuda().data.squeeze()\n",
        "            ##########################################\n",
        "            accuracy = sum(pred_y == test_y) / float(test_y.size(0))\n",
        "            print('Epoch: ', epoch, '| train loss: %.4f' % loss.data.cpu().numpy(), '| test accuracy: %.2f' % accuracy)"
      ],
      "metadata": {
        "colab": {
          "base_uri": "https://localhost:8080/"
        },
        "id": "weuEqh1Gvpxx",
        "outputId": "7e2e209b-b0f4-4c49-f845-ab97b9e0a4b0"
      },
      "execution_count": 27,
      "outputs": [
        {
          "output_type": "stream",
          "name": "stdout",
          "text": [
            "Epoch:  0 | train loss: 2.2961 | test accuracy: 0.12\n",
            "Epoch:  0 | train loss: 0.4927 | test accuracy: 0.81\n",
            "Epoch:  0 | train loss: 0.3551 | test accuracy: 0.87\n",
            "Epoch:  0 | train loss: 0.2424 | test accuracy: 0.90\n",
            "Epoch:  0 | train loss: 0.2132 | test accuracy: 0.93\n",
            "Epoch:  0 | train loss: 0.0882 | test accuracy: 0.93\n",
            "Epoch:  0 | train loss: 0.1735 | test accuracy: 0.94\n",
            "Epoch:  0 | train loss: 0.0729 | test accuracy: 0.95\n",
            "Epoch:  0 | train loss: 0.1130 | test accuracy: 0.96\n",
            "Epoch:  0 | train loss: 0.1505 | test accuracy: 0.94\n",
            "Epoch:  0 | train loss: 0.1000 | test accuracy: 0.96\n",
            "Epoch:  0 | train loss: 0.0907 | test accuracy: 0.97\n",
            "Epoch:  0 | train loss: 0.1015 | test accuracy: 0.97\n",
            "Epoch:  0 | train loss: 0.1671 | test accuracy: 0.97\n",
            "Epoch:  0 | train loss: 0.0608 | test accuracy: 0.96\n",
            "Epoch:  0 | train loss: 0.1196 | test accuracy: 0.97\n",
            "Epoch:  0 | train loss: 0.2510 | test accuracy: 0.97\n",
            "Epoch:  0 | train loss: 0.0175 | test accuracy: 0.97\n",
            "Epoch:  0 | train loss: 0.0060 | test accuracy: 0.97\n",
            "Epoch:  0 | train loss: 0.2686 | test accuracy: 0.97\n",
            "Epoch:  0 | train loss: 0.0123 | test accuracy: 0.98\n",
            "Epoch:  0 | train loss: 0.0506 | test accuracy: 0.98\n",
            "Epoch:  0 | train loss: 0.0178 | test accuracy: 0.97\n",
            "Epoch:  0 | train loss: 0.0652 | test accuracy: 0.97\n"
          ]
        }
      ]
    },
    {
      "cell_type": "code",
      "source": [
        "test_output = cnn(test_x[:10])\n",
        "################## Change Here ####################\n",
        "pred_y = torch.max(test_output,1)[1].cpu().data.numpy().squeeze()\n",
        "print(pred_y, 'prediction number')\n",
        "print(test_y[:10].cpu().data.numpy(), 'real number')"
      ],
      "metadata": {
        "colab": {
          "base_uri": "https://localhost:8080/"
        },
        "id": "IjqWt95Uwbus",
        "outputId": "a2fd6731-1b09-4a86-d106-6aeb94830afe"
      },
      "execution_count": 30,
      "outputs": [
        {
          "output_type": "stream",
          "name": "stdout",
          "text": [
            "[7 2 1 0 4 1 4 9 5 9] prediction number\n",
            "[7 2 1 0 4 1 4 9 5 9] real number\n"
          ]
        }
      ]
    }
  ]
}