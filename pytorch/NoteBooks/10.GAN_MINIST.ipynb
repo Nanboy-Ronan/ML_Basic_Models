{
  "nbformat": 4,
  "nbformat_minor": 0,
  "metadata": {
    "colab": {
      "name": "GAN MINIST.ipynb",
      "provenance": []
    },
    "kernelspec": {
      "name": "python3",
      "display_name": "Python 3"
    },
    "language_info": {
      "name": "python"
    },
    "accelerator": "GPU"
  },
  "cells": [
    {
      "cell_type": "code",
      "execution_count": 19,
      "metadata": {
        "id": "OSvhf7jDCMkw"
      },
      "outputs": [],
      "source": [
        "import os"
      ]
    },
    {
      "cell_type": "code",
      "source": [
        "import torch.autograd\n",
        "import torch.nn as nn\n",
        "from torch.autograd import Variable\n",
        "from torchvision import transforms\n",
        "from torchvision import datasets\n",
        "from torchvision.utils import save_image"
      ],
      "metadata": {
        "id": "vsEeg1oNCT6n"
      },
      "execution_count": 20,
      "outputs": []
    },
    {
      "cell_type": "code",
      "source": [
        "# Create folder if not exist\n",
        "if not os.path.exists('./img'):\n",
        "  os.mkdir('./img')"
      ],
      "metadata": {
        "id": "wi_2lmnKDFwG"
      },
      "execution_count": 21,
      "outputs": []
    },
    {
      "cell_type": "code",
      "source": [
        "# deal with images\n",
        "img_transform = transforms.Compose([\n",
        "    transforms.ToTensor(),\n",
        "    transforms.Normalize((0.5,),(0.5,))\n",
        "])"
      ],
      "metadata": {
        "id": "neccK1TzDzqF"
      },
      "execution_count": 22,
      "outputs": []
    },
    {
      "cell_type": "code",
      "source": [
        "# Download MNist dataset\n",
        "mnist = datasets.MNIST(\n",
        "    root='./data/',\n",
        "    train = True,\n",
        "    transform= img_transform,\n",
        "    download=True\n",
        ")"
      ],
      "metadata": {
        "id": "YLEV-uCNDiS3"
      },
      "execution_count": 23,
      "outputs": []
    },
    {
      "cell_type": "code",
      "source": [
        "print(mnist.train_data.size())                 # (60000, 28, 28)\n",
        "print(mnist.train_labels.size())"
      ],
      "metadata": {
        "colab": {
          "base_uri": "https://localhost:8080/"
        },
        "id": "X_HppIRebIb7",
        "outputId": "b7e73622-7dac-411b-c667-24fce61b0eca"
      },
      "execution_count": 24,
      "outputs": [
        {
          "output_type": "stream",
          "name": "stdout",
          "text": [
            "torch.Size([60000, 28, 28])\n",
            "torch.Size([60000])\n"
          ]
        },
        {
          "output_type": "stream",
          "name": "stderr",
          "text": [
            "/usr/local/lib/python3.7/dist-packages/torchvision/datasets/mnist.py:62: UserWarning: train_data has been renamed data\n",
            "  warnings.warn(\"train_data has been renamed data\")\n",
            "/usr/local/lib/python3.7/dist-packages/torchvision/datasets/mnist.py:52: UserWarning: train_labels has been renamed targets\n",
            "  warnings.warn(\"train_labels has been renamed targets\")\n"
          ]
        }
      ]
    },
    {
      "cell_type": "code",
      "source": [
        "# Hyperparameters\n",
        "batch_size = 128\n",
        "\n",
        "num_epoch = 100\n",
        "\n",
        "z_dimension = 100\n",
        "\n",
        "lr = 0.0003"
      ],
      "metadata": {
        "id": "4eGlFAgjGOdT"
      },
      "execution_count": 25,
      "outputs": []
    },
    {
      "cell_type": "code",
      "source": [
        "dataloader = torch.utils.data.DataLoader(\n",
        "    dataset = mnist,\n",
        "    batch_size = batch_size,\n",
        "    shuffle = True,\n",
        "    num_workers = 2\n",
        ")"
      ],
      "metadata": {
        "id": "mVHIzUu-Gd0s"
      },
      "execution_count": 26,
      "outputs": []
    },
    {
      "cell_type": "markdown",
      "source": [
        "**Discriminator**"
      ],
      "metadata": {
        "id": "w2h1gz18HQyb"
      }
    },
    {
      "cell_type": "code",
      "source": [
        "class discriminator(nn.Module):\n",
        "  def __init__(self):\n",
        "    super(discriminator,self).__init__()\n",
        "    self.main = nn.Sequential(\n",
        "        nn.Linear(28*28, 256),  # linear\n",
        "        nn.LeakyReLU(negative_slope=0.2),  # relu\n",
        "        nn.Linear(256, 256),\n",
        "        nn.LeakyReLU(0.2),\n",
        "        nn.Linear(256, 1),\n",
        "        nn.Sigmoid()\n",
        "\n",
        "    )\n",
        "  def forward(self, input):\n",
        "    return self.main(input)"
      ],
      "metadata": {
        "id": "5yl-AyvHHTO6"
      },
      "execution_count": 27,
      "outputs": []
    },
    {
      "cell_type": "markdown",
      "source": [
        "**Generator**"
      ],
      "metadata": {
        "id": "JtKhnNlHNf8K"
      }
    },
    {
      "cell_type": "code",
      "source": [
        "class generator(nn.Module):\n",
        "  def __init__(self):\n",
        "    super(generator,self).__init__()\n",
        "    self.main = nn.Sequential(\n",
        "        nn.Linear(100, 256),  # Linear\n",
        "        nn.ReLU(inplace=True),\n",
        "        nn.Linear(256,256), # Linear\n",
        "        nn.ReLU(inplace=True),\n",
        "        nn.Linear(256,28*28),\n",
        "        nn.Tanh()\n",
        "    )\n",
        "  def forward(self, input):\n",
        "    return self.main(input)"
      ],
      "metadata": {
        "id": "qD9rS7uuNhvp"
      },
      "execution_count": 28,
      "outputs": []
    },
    {
      "cell_type": "markdown",
      "source": [
        "**Model**"
      ],
      "metadata": {
        "id": "fT8KxFrpOh-5"
      }
    },
    {
      "cell_type": "code",
      "source": [
        "D = discriminator()\n",
        "G = generator()"
      ],
      "metadata": {
        "id": "-RADu8ksOqeX"
      },
      "execution_count": 29,
      "outputs": []
    },
    {
      "cell_type": "code",
      "source": [
        "if torch.cuda.is_available():\n",
        "  D = D.cuda()\n",
        "  G = G.cuda()"
      ],
      "metadata": {
        "id": "qkBa0Xx0PGu5"
      },
      "execution_count": 30,
      "outputs": []
    },
    {
      "cell_type": "markdown",
      "source": [
        "**Loss and Optimizer**"
      ],
      "metadata": {
        "id": "PPvtX53oP44-"
      }
    },
    {
      "cell_type": "code",
      "source": [
        "loss_func = nn.BCELoss()\n",
        "d_optimizer = torch.optim.Adam(D.parameters(), lr=lr)\n",
        "g_optimizer = torch.optim.Adam(G.parameters(), lr=lr)"
      ],
      "metadata": {
        "id": "Xw5A7g-ZP6L2"
      },
      "execution_count": 31,
      "outputs": []
    },
    {
      "cell_type": "markdown",
      "source": [
        "**Training**"
      ],
      "metadata": {
        "id": "DW3xJGcrQZbH"
      }
    },
    {
      "cell_type": "code",
      "source": [
        "def to_img(input):\n",
        "  out = 0.5*(input+1)\n",
        "  out = out.clamp(0,1)  # make out within [min,max]\n",
        "  out = out.view(-1,1,28,28)\n",
        "  return out"
      ],
      "metadata": {
        "id": "JGUf8K2AQbVP"
      },
      "execution_count": 32,
      "outputs": []
    },
    {
      "cell_type": "code",
      "source": [
        "for epoch in range(num_epoch):\n",
        "  for step, (image,_) in enumerate(dataloader):\n",
        "    num_img = image.size(0)\n",
        "\n",
        "    img = image.view(num_img, -1)  # n,d\n",
        "    real_img = Variable(img).cuda()\n",
        "\n",
        "    real_label = Variable(torch.ones(num_img)).cuda() # real image has label of one\n",
        "    fake_label = Variable(torch.zeros(num_img)).cuda()  # generated image has label of zero\n",
        "\n",
        "    # ############# Train discriminator #################\n",
        "    # Two parts: 1. real is real 2. fake is fake\n",
        "    # Calculate loss\n",
        "    real_out = D(real_img)\n",
        "    real_out = real_out.squeeze() # (128,1) -> (128,)\n",
        "    d_loss_real = loss_func(real_out,real_label)  # loss for real image\n",
        "    real_scores = real_out\n",
        "    # loss for fake images\n",
        "    z = Variable(torch.randn(num_img,z_dimension)).cuda() # random noise\n",
        "    fake_img = G(z).detach()  # random generte pictures from the noise  # use detach to prevent gradient to be delivered in G\n",
        "    fake_out = D(fake_img)  # discriminator to judge if fake is fake\n",
        "    fake_out = fake_out.squeeze() # (128,1) -> (128,)\n",
        "    d_loss_fake = loss_func(fake_out,fake_label)  # loss for fake image\n",
        "    fake_scores = fake_out\n",
        "    # Total Loss\n",
        "    d_loss = d_loss_real + d_loss_fake\n",
        "\n",
        "    d_optimizer.zero_grad()\n",
        "    d_loss.backward()\n",
        "    d_optimizer.step()\n",
        "\n",
        "    # ###################### Train Generator ########################\n",
        "    # Fix discriminator. train gernerator to generate image let discriminator judge to be real image\n",
        "    z = Variable(torch.randn(num_img, z_dimension)).cuda()  # random noise\n",
        "    fake_img = G(z) # fake image\n",
        "    output = D(fake_img)  # discriminator to judge the image\n",
        "    output = output.squeeze()\n",
        "    g_loss = loss_func(output,real_label) # loss between real and fake\n",
        "\n",
        "    g_optimizer.zero_grad()\n",
        "    g_loss.backward()\n",
        "    g_optimizer.step()\n",
        "\n",
        "    # print loss\n",
        "    if (step + 1) % 100 == 0:\n",
        "      print('Epoch[{}/{}],d_loss:{:.6f},g_loss:{:.6f} '\n",
        "            'D real: {:.6f},D fake: {:.6f}'.format(\n",
        "          epoch, num_epoch, d_loss.data.item(), g_loss.data.item(),\n",
        "          real_scores.data.mean(), fake_scores.data.mean()  # 打印的是真实图片的损失均值\n",
        "      ))\n",
        "    if epoch == 0:\n",
        "        real_images = to_img(real_img.cpu().data)\n",
        "        save_image(real_images, './img/real_images.png')\n",
        "fake_images = to_img(fake_img.cpu().data)\n",
        "save_image(fake_images, './img/fake_images-{}.png'.format(epoch + 1))\n"
      ],
      "metadata": {
        "colab": {
          "base_uri": "https://localhost:8080/"
        },
        "id": "bMrshk9DQbbl",
        "outputId": "1723646a-c12b-4d11-e3bc-a22f4c385e52"
      },
      "execution_count": 33,
      "outputs": [
        {
          "output_type": "stream",
          "name": "stdout",
          "text": [
            "Epoch[0/100],d_loss:0.143944,g_loss:3.205808 D real: 0.971831,D fake: 0.107208\n",
            "Epoch[0/100],d_loss:0.016940,g_loss:5.440063 D real: 0.994402,D fake: 0.011182\n",
            "Epoch[0/100],d_loss:0.148669,g_loss:6.355597 D real: 0.959354,D fake: 0.086063\n",
            "Epoch[0/100],d_loss:0.002924,g_loss:8.887615 D real: 0.998813,D fake: 0.001707\n",
            "Epoch[1/100],d_loss:0.385592,g_loss:4.025088 D real: 0.914168,D fake: 0.206580\n",
            "Epoch[1/100],d_loss:0.163897,g_loss:7.639924 D real: 0.974069,D fake: 0.087011\n",
            "Epoch[1/100],d_loss:0.103485,g_loss:6.846142 D real: 0.944112,D fake: 0.009085\n",
            "Epoch[1/100],d_loss:0.240253,g_loss:5.603417 D real: 0.983204,D fake: 0.185811\n",
            "Epoch[2/100],d_loss:0.217489,g_loss:5.591542 D real: 0.946112,D fake: 0.100044\n",
            "Epoch[2/100],d_loss:0.096481,g_loss:7.108648 D real: 0.956379,D fake: 0.025202\n",
            "Epoch[2/100],d_loss:0.300175,g_loss:6.891470 D real: 0.910006,D fake: 0.097761\n",
            "Epoch[2/100],d_loss:0.286694,g_loss:7.144184 D real: 0.906629,D fake: 0.043070\n",
            "Epoch[3/100],d_loss:1.025300,g_loss:2.505839 D real: 0.841236,D fake: 0.462530\n",
            "Epoch[3/100],d_loss:0.443571,g_loss:4.604640 D real: 0.809519,D fake: 0.057018\n",
            "Epoch[3/100],d_loss:1.122560,g_loss:2.779695 D real: 0.711726,D fake: 0.293307\n",
            "Epoch[3/100],d_loss:0.435956,g_loss:3.270745 D real: 0.840926,D fake: 0.135073\n",
            "Epoch[4/100],d_loss:0.522639,g_loss:4.982854 D real: 0.834326,D fake: 0.136378\n",
            "Epoch[4/100],d_loss:0.354188,g_loss:3.593713 D real: 0.911466,D fake: 0.147928\n",
            "Epoch[4/100],d_loss:0.164717,g_loss:3.086313 D real: 0.958938,D fake: 0.102340\n",
            "Epoch[4/100],d_loss:0.283916,g_loss:4.499292 D real: 0.896707,D fake: 0.077914\n",
            "Epoch[5/100],d_loss:0.265735,g_loss:3.751153 D real: 0.911548,D fake: 0.072041\n",
            "Epoch[5/100],d_loss:1.105045,g_loss:4.379103 D real: 0.677252,D fake: 0.129637\n",
            "Epoch[5/100],d_loss:0.261665,g_loss:3.614179 D real: 0.932711,D fake: 0.106705\n",
            "Epoch[5/100],d_loss:0.337394,g_loss:3.163122 D real: 0.925868,D fake: 0.121596\n",
            "Epoch[6/100],d_loss:0.706601,g_loss:4.407796 D real: 0.829685,D fake: 0.199644\n",
            "Epoch[6/100],d_loss:0.270954,g_loss:4.260593 D real: 0.957634,D fake: 0.127286\n",
            "Epoch[6/100],d_loss:1.187496,g_loss:2.439952 D real: 0.724374,D fake: 0.327861\n",
            "Epoch[6/100],d_loss:1.084624,g_loss:2.185514 D real: 0.782459,D fake: 0.368576\n",
            "Epoch[7/100],d_loss:0.999048,g_loss:3.214568 D real: 0.763881,D fake: 0.205324\n",
            "Epoch[7/100],d_loss:0.736061,g_loss:1.956664 D real: 0.752288,D fake: 0.216878\n",
            "Epoch[7/100],d_loss:0.458957,g_loss:3.310730 D real: 0.854683,D fake: 0.156589\n",
            "Epoch[7/100],d_loss:0.464762,g_loss:3.125635 D real: 0.841319,D fake: 0.121477\n",
            "Epoch[8/100],d_loss:0.099172,g_loss:5.439610 D real: 0.988866,D fake: 0.069361\n",
            "Epoch[8/100],d_loss:0.365390,g_loss:2.968987 D real: 0.905054,D fake: 0.165585\n",
            "Epoch[8/100],d_loss:0.422897,g_loss:3.212747 D real: 0.917736,D fake: 0.219659\n",
            "Epoch[8/100],d_loss:0.439631,g_loss:4.038154 D real: 0.868616,D fake: 0.078462\n",
            "Epoch[9/100],d_loss:0.206464,g_loss:3.068921 D real: 0.928359,D fake: 0.084866\n",
            "Epoch[9/100],d_loss:0.098750,g_loss:3.562449 D real: 0.987914,D fake: 0.071475\n",
            "Epoch[9/100],d_loss:0.322307,g_loss:4.794919 D real: 0.899759,D fake: 0.030039\n",
            "Epoch[9/100],d_loss:0.143378,g_loss:5.122602 D real: 0.950343,D fake: 0.030338\n",
            "Epoch[10/100],d_loss:0.463123,g_loss:4.449494 D real: 0.841942,D fake: 0.026516\n",
            "Epoch[10/100],d_loss:0.312858,g_loss:2.752802 D real: 0.883279,D fake: 0.057537\n",
            "Epoch[10/100],d_loss:0.186386,g_loss:4.039305 D real: 0.935204,D fake: 0.069115\n",
            "Epoch[10/100],d_loss:0.183139,g_loss:4.437733 D real: 0.940917,D fake: 0.038147\n",
            "Epoch[11/100],d_loss:0.103716,g_loss:5.401024 D real: 0.945594,D fake: 0.020045\n",
            "Epoch[11/100],d_loss:0.210197,g_loss:4.108229 D real: 0.909745,D fake: 0.035805\n",
            "Epoch[11/100],d_loss:0.133314,g_loss:5.275702 D real: 0.946112,D fake: 0.049733\n",
            "Epoch[11/100],d_loss:0.373627,g_loss:3.554103 D real: 0.924542,D fake: 0.153085\n",
            "Epoch[12/100],d_loss:0.112860,g_loss:5.380884 D real: 0.941455,D fake: 0.016785\n",
            "Epoch[12/100],d_loss:0.250987,g_loss:6.835716 D real: 0.918297,D fake: 0.036391\n",
            "Epoch[12/100],d_loss:0.281327,g_loss:5.355278 D real: 0.890135,D fake: 0.048041\n",
            "Epoch[12/100],d_loss:0.126937,g_loss:4.373202 D real: 0.946563,D fake: 0.039063\n",
            "Epoch[13/100],d_loss:0.107355,g_loss:6.033472 D real: 0.979148,D fake: 0.063859\n",
            "Epoch[13/100],d_loss:0.133222,g_loss:6.097075 D real: 0.973511,D fake: 0.039940\n",
            "Epoch[13/100],d_loss:0.346900,g_loss:4.683959 D real: 0.876702,D fake: 0.021961\n",
            "Epoch[13/100],d_loss:0.351944,g_loss:4.399746 D real: 0.952574,D fake: 0.165334\n",
            "Epoch[14/100],d_loss:0.210656,g_loss:3.645479 D real: 0.950062,D fake: 0.104333\n",
            "Epoch[14/100],d_loss:0.273804,g_loss:3.555489 D real: 0.944653,D fake: 0.122101\n",
            "Epoch[14/100],d_loss:0.666170,g_loss:3.778179 D real: 0.934470,D fake: 0.289013\n",
            "Epoch[14/100],d_loss:0.421437,g_loss:3.441809 D real: 0.933356,D fake: 0.190926\n",
            "Epoch[15/100],d_loss:0.139497,g_loss:5.305583 D real: 0.936852,D fake: 0.033909\n",
            "Epoch[15/100],d_loss:0.321944,g_loss:5.052694 D real: 0.965973,D fake: 0.154943\n",
            "Epoch[15/100],d_loss:0.656759,g_loss:4.622477 D real: 0.777534,D fake: 0.020332\n",
            "Epoch[15/100],d_loss:0.234315,g_loss:3.178679 D real: 0.933029,D fake: 0.101584\n",
            "Epoch[16/100],d_loss:0.395224,g_loss:2.930528 D real: 0.847361,D fake: 0.038101\n",
            "Epoch[16/100],d_loss:0.180662,g_loss:4.528994 D real: 0.942889,D fake: 0.059435\n",
            "Epoch[16/100],d_loss:0.348377,g_loss:4.584081 D real: 0.936350,D fake: 0.118947\n",
            "Epoch[16/100],d_loss:0.480369,g_loss:5.697371 D real: 0.922912,D fake: 0.172251\n",
            "Epoch[17/100],d_loss:0.269121,g_loss:5.072635 D real: 0.948415,D fake: 0.117062\n",
            "Epoch[17/100],d_loss:0.368831,g_loss:4.657373 D real: 0.914401,D fake: 0.146421\n",
            "Epoch[17/100],d_loss:0.237666,g_loss:3.676046 D real: 0.942617,D fake: 0.104315\n",
            "Epoch[17/100],d_loss:0.359378,g_loss:5.258412 D real: 0.878851,D fake: 0.031691\n",
            "Epoch[18/100],d_loss:0.206416,g_loss:4.500179 D real: 0.924504,D fake: 0.041768\n",
            "Epoch[18/100],d_loss:0.150841,g_loss:3.497968 D real: 0.956547,D fake: 0.070579\n",
            "Epoch[18/100],d_loss:0.324864,g_loss:3.401886 D real: 0.906426,D fake: 0.119246\n",
            "Epoch[18/100],d_loss:0.289285,g_loss:3.468148 D real: 0.917617,D fake: 0.105881\n",
            "Epoch[19/100],d_loss:0.276950,g_loss:3.864148 D real: 0.907855,D fake: 0.087598\n",
            "Epoch[19/100],d_loss:0.243784,g_loss:4.609463 D real: 0.928747,D fake: 0.074094\n",
            "Epoch[19/100],d_loss:0.449566,g_loss:4.154645 D real: 0.924515,D fake: 0.156447\n",
            "Epoch[19/100],d_loss:0.272385,g_loss:3.766101 D real: 0.973580,D fake: 0.163738\n",
            "Epoch[20/100],d_loss:0.282423,g_loss:3.904535 D real: 0.939590,D fake: 0.130374\n",
            "Epoch[20/100],d_loss:0.224644,g_loss:2.998907 D real: 0.946517,D fake: 0.103864\n",
            "Epoch[20/100],d_loss:0.168610,g_loss:4.124253 D real: 0.948425,D fake: 0.082355\n",
            "Epoch[20/100],d_loss:0.203357,g_loss:4.783146 D real: 0.916259,D fake: 0.056244\n",
            "Epoch[21/100],d_loss:0.686882,g_loss:2.289345 D real: 0.844214,D fake: 0.178195\n",
            "Epoch[21/100],d_loss:0.570979,g_loss:3.127050 D real: 0.843978,D fake: 0.123951\n",
            "Epoch[21/100],d_loss:0.265284,g_loss:4.353784 D real: 0.929104,D fake: 0.089059\n",
            "Epoch[21/100],d_loss:0.350324,g_loss:5.089140 D real: 0.932547,D fake: 0.144094\n",
            "Epoch[22/100],d_loss:0.401086,g_loss:3.650097 D real: 0.845256,D fake: 0.082557\n",
            "Epoch[22/100],d_loss:0.528321,g_loss:4.186876 D real: 0.853405,D fake: 0.132424\n",
            "Epoch[22/100],d_loss:0.363435,g_loss:3.952471 D real: 0.907710,D fake: 0.101435\n",
            "Epoch[22/100],d_loss:0.367381,g_loss:4.546962 D real: 0.877569,D fake: 0.069119\n",
            "Epoch[23/100],d_loss:0.721791,g_loss:3.118467 D real: 0.849339,D fake: 0.183642\n",
            "Epoch[23/100],d_loss:0.278639,g_loss:4.687508 D real: 0.918716,D fake: 0.091451\n",
            "Epoch[23/100],d_loss:0.318512,g_loss:3.530411 D real: 0.950292,D fake: 0.150919\n",
            "Epoch[23/100],d_loss:0.278184,g_loss:4.308538 D real: 0.922424,D fake: 0.110470\n",
            "Epoch[24/100],d_loss:0.184019,g_loss:3.225637 D real: 0.951536,D fake: 0.092527\n",
            "Epoch[24/100],d_loss:0.537627,g_loss:2.870006 D real: 0.885645,D fake: 0.211873\n",
            "Epoch[24/100],d_loss:0.326267,g_loss:4.689746 D real: 0.892482,D fake: 0.098344\n",
            "Epoch[24/100],d_loss:0.672302,g_loss:5.122578 D real: 0.773318,D fake: 0.104038\n",
            "Epoch[25/100],d_loss:0.315271,g_loss:4.867815 D real: 0.929487,D fake: 0.126004\n",
            "Epoch[25/100],d_loss:0.333942,g_loss:3.681741 D real: 0.880144,D fake: 0.080326\n",
            "Epoch[25/100],d_loss:0.321614,g_loss:4.304956 D real: 0.861273,D fake: 0.040291\n",
            "Epoch[25/100],d_loss:0.289281,g_loss:4.228029 D real: 0.933072,D fake: 0.117697\n",
            "Epoch[26/100],d_loss:0.363722,g_loss:4.733322 D real: 0.947511,D fake: 0.189894\n",
            "Epoch[26/100],d_loss:0.253619,g_loss:4.460633 D real: 0.899498,D fake: 0.063154\n",
            "Epoch[26/100],d_loss:0.363197,g_loss:3.453123 D real: 0.932519,D fake: 0.157838\n",
            "Epoch[26/100],d_loss:0.584451,g_loss:4.125592 D real: 0.888570,D fake: 0.218204\n",
            "Epoch[27/100],d_loss:0.350741,g_loss:4.402772 D real: 0.913126,D fake: 0.151774\n",
            "Epoch[27/100],d_loss:0.445643,g_loss:3.580478 D real: 0.836315,D fake: 0.077973\n",
            "Epoch[27/100],d_loss:0.379244,g_loss:3.571336 D real: 0.840872,D fake: 0.078358\n",
            "Epoch[27/100],d_loss:0.328526,g_loss:3.331220 D real: 0.912273,D fake: 0.119529\n",
            "Epoch[28/100],d_loss:0.408235,g_loss:3.003222 D real: 0.906930,D fake: 0.181061\n",
            "Epoch[28/100],d_loss:0.421815,g_loss:3.384935 D real: 0.857653,D fake: 0.093917\n",
            "Epoch[28/100],d_loss:0.375343,g_loss:3.393992 D real: 0.882701,D fake: 0.107773\n",
            "Epoch[28/100],d_loss:0.416888,g_loss:3.366322 D real: 0.862631,D fake: 0.117080\n",
            "Epoch[29/100],d_loss:0.487044,g_loss:2.138024 D real: 0.840095,D fake: 0.126505\n",
            "Epoch[29/100],d_loss:0.324027,g_loss:3.392200 D real: 0.889930,D fake: 0.113527\n",
            "Epoch[29/100],d_loss:0.279961,g_loss:2.418475 D real: 0.879480,D fake: 0.070055\n",
            "Epoch[29/100],d_loss:0.372128,g_loss:2.878349 D real: 0.851488,D fake: 0.093022\n",
            "Epoch[30/100],d_loss:0.410836,g_loss:3.210970 D real: 0.845234,D fake: 0.118064\n",
            "Epoch[30/100],d_loss:0.521402,g_loss:3.440958 D real: 0.930798,D fake: 0.279647\n",
            "Epoch[30/100],d_loss:0.613860,g_loss:3.656612 D real: 0.852385,D fake: 0.185572\n",
            "Epoch[30/100],d_loss:0.343996,g_loss:3.653062 D real: 0.884885,D fake: 0.122585\n",
            "Epoch[31/100],d_loss:0.457563,g_loss:4.797665 D real: 0.838761,D fake: 0.101367\n",
            "Epoch[31/100],d_loss:0.449614,g_loss:2.923986 D real: 0.847862,D fake: 0.127015\n",
            "Epoch[31/100],d_loss:0.371756,g_loss:4.207938 D real: 0.832274,D fake: 0.051490\n",
            "Epoch[31/100],d_loss:0.380242,g_loss:3.035821 D real: 0.890208,D fake: 0.130557\n",
            "Epoch[32/100],d_loss:0.461122,g_loss:3.117860 D real: 0.905038,D fake: 0.191298\n",
            "Epoch[32/100],d_loss:0.361433,g_loss:3.241096 D real: 0.885821,D fake: 0.109080\n",
            "Epoch[32/100],d_loss:0.431237,g_loss:4.368198 D real: 0.866810,D fake: 0.136586\n",
            "Epoch[32/100],d_loss:0.361670,g_loss:2.064702 D real: 0.919790,D fake: 0.187929\n",
            "Epoch[33/100],d_loss:0.324420,g_loss:3.726434 D real: 0.893386,D fake: 0.101070\n",
            "Epoch[33/100],d_loss:0.274712,g_loss:3.578434 D real: 0.953377,D fake: 0.157302\n",
            "Epoch[33/100],d_loss:0.396980,g_loss:4.025754 D real: 0.835729,D fake: 0.055684\n",
            "Epoch[33/100],d_loss:0.536021,g_loss:2.537602 D real: 0.836894,D fake: 0.155787\n",
            "Epoch[34/100],d_loss:0.423467,g_loss:4.060701 D real: 0.899378,D fake: 0.174757\n",
            "Epoch[34/100],d_loss:0.479756,g_loss:2.984225 D real: 0.958257,D fake: 0.258378\n",
            "Epoch[34/100],d_loss:0.507900,g_loss:3.561357 D real: 0.812096,D fake: 0.100927\n",
            "Epoch[34/100],d_loss:0.261054,g_loss:3.562418 D real: 0.901758,D fake: 0.085948\n",
            "Epoch[35/100],d_loss:0.445771,g_loss:3.371656 D real: 0.878443,D fake: 0.184977\n",
            "Epoch[35/100],d_loss:0.405305,g_loss:3.145622 D real: 0.947794,D fake: 0.220315\n",
            "Epoch[35/100],d_loss:0.375257,g_loss:2.690308 D real: 0.871525,D fake: 0.112583\n",
            "Epoch[35/100],d_loss:0.473408,g_loss:2.664604 D real: 0.872741,D fake: 0.170077\n",
            "Epoch[36/100],d_loss:0.369915,g_loss:4.175666 D real: 0.862460,D fake: 0.096002\n",
            "Epoch[36/100],d_loss:0.449262,g_loss:3.702548 D real: 0.825715,D fake: 0.102815\n",
            "Epoch[36/100],d_loss:0.461486,g_loss:3.558339 D real: 0.859041,D fake: 0.132212\n",
            "Epoch[36/100],d_loss:0.401888,g_loss:3.390269 D real: 0.877174,D fake: 0.163709\n",
            "Epoch[37/100],d_loss:0.458068,g_loss:3.297355 D real: 0.847703,D fake: 0.097425\n",
            "Epoch[37/100],d_loss:0.443635,g_loss:3.036613 D real: 0.849813,D fake: 0.127698\n",
            "Epoch[37/100],d_loss:0.645957,g_loss:3.092066 D real: 0.747376,D fake: 0.057107\n",
            "Epoch[37/100],d_loss:0.534724,g_loss:3.068111 D real: 0.839973,D fake: 0.163757\n",
            "Epoch[38/100],d_loss:0.704156,g_loss:2.579679 D real: 0.759232,D fake: 0.121265\n",
            "Epoch[38/100],d_loss:0.673774,g_loss:2.886714 D real: 0.788036,D fake: 0.117217\n",
            "Epoch[38/100],d_loss:0.414840,g_loss:3.388494 D real: 0.902574,D fake: 0.143482\n",
            "Epoch[38/100],d_loss:0.578892,g_loss:2.851425 D real: 0.790670,D fake: 0.089533\n",
            "Epoch[39/100],d_loss:0.711851,g_loss:2.817250 D real: 0.863305,D fake: 0.238878\n",
            "Epoch[39/100],d_loss:0.400117,g_loss:3.037044 D real: 0.883538,D fake: 0.152619\n",
            "Epoch[39/100],d_loss:0.520620,g_loss:2.705897 D real: 0.846823,D fake: 0.186621\n",
            "Epoch[39/100],d_loss:0.422909,g_loss:2.920743 D real: 0.850368,D fake: 0.113134\n",
            "Epoch[40/100],d_loss:0.565668,g_loss:3.627702 D real: 0.840065,D fake: 0.162576\n",
            "Epoch[40/100],d_loss:0.386802,g_loss:2.762988 D real: 0.870409,D fake: 0.125537\n",
            "Epoch[40/100],d_loss:0.636301,g_loss:4.289536 D real: 0.858874,D fake: 0.237509\n",
            "Epoch[40/100],d_loss:0.426237,g_loss:2.943417 D real: 0.829753,D fake: 0.101963\n",
            "Epoch[41/100],d_loss:0.554048,g_loss:2.535620 D real: 0.864623,D fake: 0.219233\n",
            "Epoch[41/100],d_loss:0.377866,g_loss:4.287741 D real: 0.842404,D fake: 0.077115\n",
            "Epoch[41/100],d_loss:0.590666,g_loss:3.043756 D real: 0.815807,D fake: 0.150126\n",
            "Epoch[41/100],d_loss:0.379090,g_loss:2.570641 D real: 0.899380,D fake: 0.167007\n",
            "Epoch[42/100],d_loss:0.443956,g_loss:2.876365 D real: 0.878960,D fake: 0.177984\n",
            "Epoch[42/100],d_loss:0.548723,g_loss:2.709494 D real: 0.875068,D fake: 0.213773\n",
            "Epoch[42/100],d_loss:0.337019,g_loss:3.441384 D real: 0.938281,D fake: 0.178713\n",
            "Epoch[42/100],d_loss:0.648232,g_loss:2.883431 D real: 0.796143,D fake: 0.146363\n",
            "Epoch[43/100],d_loss:0.750276,g_loss:2.180924 D real: 0.849448,D fake: 0.290760\n",
            "Epoch[43/100],d_loss:0.614823,g_loss:2.284750 D real: 0.835784,D fake: 0.208622\n",
            "Epoch[43/100],d_loss:0.543661,g_loss:2.363321 D real: 0.827764,D fake: 0.139479\n",
            "Epoch[43/100],d_loss:0.895460,g_loss:2.706903 D real: 0.651165,D fake: 0.071881\n",
            "Epoch[44/100],d_loss:0.908404,g_loss:2.774029 D real: 0.807915,D fake: 0.314923\n",
            "Epoch[44/100],d_loss:0.567749,g_loss:2.698542 D real: 0.827320,D fake: 0.130104\n",
            "Epoch[44/100],d_loss:0.700661,g_loss:2.615983 D real: 0.815972,D fake: 0.243385\n",
            "Epoch[44/100],d_loss:0.720484,g_loss:2.111515 D real: 0.713340,D fake: 0.123502\n",
            "Epoch[45/100],d_loss:0.821361,g_loss:3.186996 D real: 0.878889,D fake: 0.355400\n",
            "Epoch[45/100],d_loss:0.406791,g_loss:2.657095 D real: 0.896726,D fake: 0.192923\n",
            "Epoch[45/100],d_loss:0.627167,g_loss:2.245433 D real: 0.774299,D fake: 0.153522\n",
            "Epoch[45/100],d_loss:0.520775,g_loss:2.742019 D real: 0.860620,D fake: 0.220693\n",
            "Epoch[46/100],d_loss:0.476029,g_loss:3.017110 D real: 0.854436,D fake: 0.165100\n",
            "Epoch[46/100],d_loss:0.563413,g_loss:3.198220 D real: 0.851830,D fake: 0.178955\n",
            "Epoch[46/100],d_loss:0.542633,g_loss:3.202749 D real: 0.794239,D fake: 0.097089\n",
            "Epoch[46/100],d_loss:0.548534,g_loss:3.042347 D real: 0.841938,D fake: 0.203176\n",
            "Epoch[47/100],d_loss:0.485147,g_loss:2.554776 D real: 0.831714,D fake: 0.149607\n",
            "Epoch[47/100],d_loss:0.590365,g_loss:2.787544 D real: 0.847929,D fake: 0.218452\n",
            "Epoch[47/100],d_loss:0.693120,g_loss:2.393669 D real: 0.840844,D fake: 0.309011\n",
            "Epoch[47/100],d_loss:0.602276,g_loss:2.439125 D real: 0.820107,D fake: 0.191377\n",
            "Epoch[48/100],d_loss:0.428543,g_loss:3.034811 D real: 0.908623,D fake: 0.222662\n",
            "Epoch[48/100],d_loss:0.538346,g_loss:2.845259 D real: 0.857487,D fake: 0.207583\n",
            "Epoch[48/100],d_loss:0.475117,g_loss:3.373865 D real: 0.873879,D fake: 0.188292\n",
            "Epoch[48/100],d_loss:0.474662,g_loss:3.475472 D real: 0.866548,D fake: 0.164666\n",
            "Epoch[49/100],d_loss:0.716279,g_loss:2.825605 D real: 0.746874,D fake: 0.196246\n",
            "Epoch[49/100],d_loss:0.908388,g_loss:2.785961 D real: 0.704835,D fake: 0.197696\n",
            "Epoch[49/100],d_loss:0.659909,g_loss:3.144160 D real: 0.792567,D fake: 0.152780\n",
            "Epoch[49/100],d_loss:0.645583,g_loss:2.338216 D real: 0.819165,D fake: 0.225207\n",
            "Epoch[50/100],d_loss:0.602037,g_loss:2.862647 D real: 0.789217,D fake: 0.155512\n",
            "Epoch[50/100],d_loss:0.698423,g_loss:2.572259 D real: 0.779069,D fake: 0.227992\n",
            "Epoch[50/100],d_loss:0.530887,g_loss:2.588346 D real: 0.858733,D fake: 0.198077\n",
            "Epoch[50/100],d_loss:0.506702,g_loss:2.441766 D real: 0.875463,D fake: 0.202606\n",
            "Epoch[51/100],d_loss:0.530720,g_loss:2.251554 D real: 0.862154,D fake: 0.216884\n",
            "Epoch[51/100],d_loss:0.607348,g_loss:2.336397 D real: 0.796729,D fake: 0.186374\n",
            "Epoch[51/100],d_loss:0.517800,g_loss:2.367120 D real: 0.807409,D fake: 0.154813\n",
            "Epoch[51/100],d_loss:0.610519,g_loss:2.373310 D real: 0.745186,D fake: 0.119834\n",
            "Epoch[52/100],d_loss:0.578338,g_loss:2.494896 D real: 0.857366,D fake: 0.206565\n",
            "Epoch[52/100],d_loss:0.725070,g_loss:2.703825 D real: 0.810567,D fake: 0.233108\n",
            "Epoch[52/100],d_loss:0.710975,g_loss:1.570991 D real: 0.796830,D fake: 0.229642\n",
            "Epoch[52/100],d_loss:0.576795,g_loss:2.964893 D real: 0.808944,D fake: 0.161285\n",
            "Epoch[53/100],d_loss:0.662646,g_loss:2.194846 D real: 0.805169,D fake: 0.228935\n",
            "Epoch[53/100],d_loss:0.777337,g_loss:2.289918 D real: 0.786758,D fake: 0.248729\n",
            "Epoch[53/100],d_loss:0.683532,g_loss:2.107418 D real: 0.830438,D fake: 0.264232\n",
            "Epoch[53/100],d_loss:0.897535,g_loss:2.298153 D real: 0.782635,D fake: 0.298067\n",
            "Epoch[54/100],d_loss:0.704193,g_loss:2.075450 D real: 0.778151,D fake: 0.199882\n",
            "Epoch[54/100],d_loss:0.525875,g_loss:2.452357 D real: 0.859628,D fake: 0.218770\n",
            "Epoch[54/100],d_loss:0.855439,g_loss:2.307590 D real: 0.809516,D fake: 0.302117\n",
            "Epoch[54/100],d_loss:0.725371,g_loss:2.354100 D real: 0.721430,D fake: 0.167638\n",
            "Epoch[55/100],d_loss:0.844056,g_loss:2.315558 D real: 0.746306,D fake: 0.257128\n",
            "Epoch[55/100],d_loss:0.681519,g_loss:2.649651 D real: 0.749115,D fake: 0.127031\n",
            "Epoch[55/100],d_loss:0.615474,g_loss:2.963551 D real: 0.887849,D fake: 0.303914\n",
            "Epoch[55/100],d_loss:0.467503,g_loss:2.727777 D real: 0.857035,D fake: 0.168319\n",
            "Epoch[56/100],d_loss:0.562938,g_loss:2.706526 D real: 0.754846,D fake: 0.095760\n",
            "Epoch[56/100],d_loss:0.655072,g_loss:1.913190 D real: 0.776411,D fake: 0.180847\n",
            "Epoch[56/100],d_loss:0.709347,g_loss:3.124066 D real: 0.763405,D fake: 0.165514\n",
            "Epoch[56/100],d_loss:0.494706,g_loss:2.194323 D real: 0.868304,D fake: 0.208972\n",
            "Epoch[57/100],d_loss:0.826235,g_loss:2.509479 D real: 0.802159,D fake: 0.286826\n",
            "Epoch[57/100],d_loss:0.701031,g_loss:1.629586 D real: 0.799698,D fake: 0.235264\n",
            "Epoch[57/100],d_loss:0.778144,g_loss:2.008992 D real: 0.772340,D fake: 0.230262\n",
            "Epoch[57/100],d_loss:0.852281,g_loss:2.102524 D real: 0.724661,D fake: 0.193873\n",
            "Epoch[58/100],d_loss:0.628325,g_loss:2.491591 D real: 0.819162,D fake: 0.205032\n",
            "Epoch[58/100],d_loss:0.369416,g_loss:2.664332 D real: 0.826509,D fake: 0.106331\n",
            "Epoch[58/100],d_loss:0.605075,g_loss:1.888315 D real: 0.791268,D fake: 0.183682\n",
            "Epoch[58/100],d_loss:0.691252,g_loss:3.059911 D real: 0.752047,D fake: 0.180743\n",
            "Epoch[59/100],d_loss:0.723388,g_loss:2.328905 D real: 0.791013,D fake: 0.254698\n",
            "Epoch[59/100],d_loss:0.595739,g_loss:2.637633 D real: 0.805096,D fake: 0.195394\n",
            "Epoch[59/100],d_loss:0.606430,g_loss:2.700322 D real: 0.792743,D fake: 0.153752\n",
            "Epoch[59/100],d_loss:0.782198,g_loss:2.489586 D real: 0.707595,D fake: 0.152773\n",
            "Epoch[60/100],d_loss:0.736657,g_loss:1.217977 D real: 0.836988,D fake: 0.312401\n",
            "Epoch[60/100],d_loss:0.555945,g_loss:2.650984 D real: 0.803251,D fake: 0.157023\n",
            "Epoch[60/100],d_loss:0.664365,g_loss:2.413659 D real: 0.777091,D fake: 0.200336\n",
            "Epoch[60/100],d_loss:0.461117,g_loss:2.255481 D real: 0.837368,D fake: 0.168810\n",
            "Epoch[61/100],d_loss:0.900128,g_loss:2.291420 D real: 0.850475,D fake: 0.367225\n",
            "Epoch[61/100],d_loss:0.748262,g_loss:2.359648 D real: 0.714522,D fake: 0.152479\n",
            "Epoch[61/100],d_loss:0.746723,g_loss:1.541507 D real: 0.801404,D fake: 0.268408\n",
            "Epoch[61/100],d_loss:0.658145,g_loss:1.950073 D real: 0.760837,D fake: 0.190497\n",
            "Epoch[62/100],d_loss:0.748515,g_loss:2.514938 D real: 0.741944,D fake: 0.174600\n",
            "Epoch[62/100],d_loss:0.641829,g_loss:2.208322 D real: 0.760005,D fake: 0.174141\n",
            "Epoch[62/100],d_loss:0.461300,g_loss:2.912545 D real: 0.863140,D fake: 0.182337\n",
            "Epoch[62/100],d_loss:0.630288,g_loss:2.602108 D real: 0.858319,D fake: 0.273451\n",
            "Epoch[63/100],d_loss:0.821031,g_loss:2.036612 D real: 0.722982,D fake: 0.234090\n",
            "Epoch[63/100],d_loss:0.697529,g_loss:2.040870 D real: 0.759241,D fake: 0.189290\n",
            "Epoch[63/100],d_loss:0.710045,g_loss:2.161843 D real: 0.710860,D fake: 0.159479\n",
            "Epoch[63/100],d_loss:0.639418,g_loss:1.899423 D real: 0.828214,D fake: 0.243112\n",
            "Epoch[64/100],d_loss:0.591353,g_loss:2.494035 D real: 0.856955,D fake: 0.249291\n",
            "Epoch[64/100],d_loss:0.618037,g_loss:2.686315 D real: 0.824757,D fake: 0.195015\n",
            "Epoch[64/100],d_loss:0.743116,g_loss:2.734663 D real: 0.785912,D fake: 0.210038\n",
            "Epoch[64/100],d_loss:0.783665,g_loss:2.268730 D real: 0.794353,D fake: 0.308765\n",
            "Epoch[65/100],d_loss:0.699329,g_loss:2.810366 D real: 0.816247,D fake: 0.262751\n",
            "Epoch[65/100],d_loss:0.577657,g_loss:2.489850 D real: 0.803202,D fake: 0.175014\n",
            "Epoch[65/100],d_loss:0.446030,g_loss:3.025895 D real: 0.854325,D fake: 0.167874\n",
            "Epoch[65/100],d_loss:0.756353,g_loss:2.465615 D real: 0.699177,D fake: 0.139884\n",
            "Epoch[66/100],d_loss:0.583417,g_loss:1.782569 D real: 0.833288,D fake: 0.217007\n",
            "Epoch[66/100],d_loss:0.774806,g_loss:2.007255 D real: 0.734735,D fake: 0.184724\n",
            "Epoch[66/100],d_loss:0.864093,g_loss:1.624434 D real: 0.694207,D fake: 0.206607\n",
            "Epoch[66/100],d_loss:0.744017,g_loss:2.359876 D real: 0.719263,D fake: 0.122349\n",
            "Epoch[67/100],d_loss:0.686183,g_loss:1.706619 D real: 0.820774,D fake: 0.281004\n",
            "Epoch[67/100],d_loss:0.691301,g_loss:2.065199 D real: 0.818886,D fake: 0.275735\n",
            "Epoch[67/100],d_loss:0.806924,g_loss:2.162833 D real: 0.742903,D fake: 0.217022\n",
            "Epoch[67/100],d_loss:0.694202,g_loss:2.496866 D real: 0.761284,D fake: 0.207082\n",
            "Epoch[68/100],d_loss:0.628358,g_loss:2.339716 D real: 0.749586,D fake: 0.121469\n",
            "Epoch[68/100],d_loss:0.435362,g_loss:3.351695 D real: 0.828522,D fake: 0.111421\n",
            "Epoch[68/100],d_loss:0.548670,g_loss:2.428590 D real: 0.803408,D fake: 0.166317\n",
            "Epoch[68/100],d_loss:0.616996,g_loss:2.540864 D real: 0.773035,D fake: 0.171219\n",
            "Epoch[69/100],d_loss:0.867514,g_loss:2.828612 D real: 0.692883,D fake: 0.175842\n",
            "Epoch[69/100],d_loss:0.664807,g_loss:2.362291 D real: 0.839873,D fake: 0.280049\n",
            "Epoch[69/100],d_loss:0.673630,g_loss:2.095459 D real: 0.824625,D fake: 0.263898\n",
            "Epoch[69/100],d_loss:0.681388,g_loss:2.679976 D real: 0.753171,D fake: 0.183721\n",
            "Epoch[70/100],d_loss:0.770090,g_loss:2.252418 D real: 0.774432,D fake: 0.237004\n",
            "Epoch[70/100],d_loss:0.932864,g_loss:2.449890 D real: 0.695250,D fake: 0.214113\n",
            "Epoch[70/100],d_loss:0.678367,g_loss:1.983673 D real: 0.753108,D fake: 0.176168\n",
            "Epoch[70/100],d_loss:0.768996,g_loss:1.625134 D real: 0.759347,D fake: 0.209353\n",
            "Epoch[71/100],d_loss:0.744687,g_loss:2.303924 D real: 0.751738,D fake: 0.198582\n",
            "Epoch[71/100],d_loss:0.547964,g_loss:2.299443 D real: 0.796654,D fake: 0.183748\n",
            "Epoch[71/100],d_loss:0.771870,g_loss:2.183059 D real: 0.731315,D fake: 0.223450\n",
            "Epoch[71/100],d_loss:0.836478,g_loss:2.605244 D real: 0.734820,D fake: 0.235283\n",
            "Epoch[72/100],d_loss:0.779032,g_loss:1.720009 D real: 0.723712,D fake: 0.238934\n",
            "Epoch[72/100],d_loss:0.774179,g_loss:1.766273 D real: 0.715479,D fake: 0.219967\n",
            "Epoch[72/100],d_loss:0.755069,g_loss:2.455928 D real: 0.715382,D fake: 0.190882\n",
            "Epoch[72/100],d_loss:1.046671,g_loss:2.540510 D real: 0.663372,D fake: 0.198704\n",
            "Epoch[73/100],d_loss:0.648926,g_loss:2.839931 D real: 0.776209,D fake: 0.204369\n",
            "Epoch[73/100],d_loss:0.606139,g_loss:2.071174 D real: 0.820673,D fake: 0.236187\n",
            "Epoch[73/100],d_loss:0.852444,g_loss:2.408701 D real: 0.703276,D fake: 0.210804\n",
            "Epoch[73/100],d_loss:0.723372,g_loss:2.315228 D real: 0.766712,D fake: 0.248400\n",
            "Epoch[74/100],d_loss:0.521717,g_loss:2.078669 D real: 0.877941,D fake: 0.248865\n",
            "Epoch[74/100],d_loss:0.725384,g_loss:2.579138 D real: 0.793299,D fake: 0.240037\n",
            "Epoch[74/100],d_loss:0.712113,g_loss:2.705835 D real: 0.784747,D fake: 0.237562\n",
            "Epoch[74/100],d_loss:0.735095,g_loss:2.447722 D real: 0.798335,D fake: 0.188860\n",
            "Epoch[75/100],d_loss:0.533197,g_loss:2.237024 D real: 0.800128,D fake: 0.161164\n",
            "Epoch[75/100],d_loss:0.710742,g_loss:1.788903 D real: 0.780578,D fake: 0.214122\n",
            "Epoch[75/100],d_loss:0.808361,g_loss:1.906837 D real: 0.691996,D fake: 0.196319\n",
            "Epoch[75/100],d_loss:0.739751,g_loss:1.811956 D real: 0.761449,D fake: 0.234199\n",
            "Epoch[76/100],d_loss:0.572153,g_loss:2.129340 D real: 0.855727,D fake: 0.244921\n",
            "Epoch[76/100],d_loss:0.784290,g_loss:2.066244 D real: 0.780537,D fake: 0.287472\n",
            "Epoch[76/100],d_loss:0.686404,g_loss:1.717852 D real: 0.834782,D fake: 0.314178\n",
            "Epoch[76/100],d_loss:0.767951,g_loss:1.791328 D real: 0.738609,D fake: 0.249581\n",
            "Epoch[77/100],d_loss:0.415518,g_loss:2.177216 D real: 0.834240,D fake: 0.146334\n",
            "Epoch[77/100],d_loss:0.973479,g_loss:2.504293 D real: 0.729524,D fake: 0.285492\n",
            "Epoch[77/100],d_loss:0.855049,g_loss:1.970605 D real: 0.818622,D fake: 0.326372\n",
            "Epoch[77/100],d_loss:0.743919,g_loss:2.318886 D real: 0.727781,D fake: 0.194018\n",
            "Epoch[78/100],d_loss:0.725785,g_loss:2.005212 D real: 0.839025,D fake: 0.291193\n",
            "Epoch[78/100],d_loss:1.067636,g_loss:1.758192 D real: 0.729999,D fake: 0.323821\n",
            "Epoch[78/100],d_loss:0.961636,g_loss:1.616180 D real: 0.813419,D fake: 0.382713\n",
            "Epoch[78/100],d_loss:0.689653,g_loss:2.235026 D real: 0.739220,D fake: 0.160425\n",
            "Epoch[79/100],d_loss:0.716734,g_loss:1.802423 D real: 0.834010,D fake: 0.308762\n",
            "Epoch[79/100],d_loss:0.644875,g_loss:1.789010 D real: 0.760480,D fake: 0.218859\n",
            "Epoch[79/100],d_loss:0.715875,g_loss:2.425070 D real: 0.756880,D fake: 0.238229\n",
            "Epoch[79/100],d_loss:0.695638,g_loss:2.447097 D real: 0.762763,D fake: 0.198061\n",
            "Epoch[80/100],d_loss:0.828649,g_loss:1.677462 D real: 0.750507,D fake: 0.268013\n",
            "Epoch[80/100],d_loss:0.658844,g_loss:2.603456 D real: 0.799301,D fake: 0.239518\n",
            "Epoch[80/100],d_loss:0.786485,g_loss:1.860774 D real: 0.765629,D fake: 0.274210\n",
            "Epoch[80/100],d_loss:0.796257,g_loss:2.541821 D real: 0.725286,D fake: 0.204591\n",
            "Epoch[81/100],d_loss:1.022676,g_loss:2.111926 D real: 0.672850,D fake: 0.266807\n",
            "Epoch[81/100],d_loss:0.857126,g_loss:2.420075 D real: 0.686778,D fake: 0.217689\n",
            "Epoch[81/100],d_loss:0.844357,g_loss:1.846261 D real: 0.697810,D fake: 0.239484\n",
            "Epoch[81/100],d_loss:0.793132,g_loss:1.836211 D real: 0.755516,D fake: 0.267802\n",
            "Epoch[82/100],d_loss:0.820871,g_loss:1.725355 D real: 0.764081,D fake: 0.273741\n",
            "Epoch[82/100],d_loss:0.616910,g_loss:2.076795 D real: 0.820485,D fake: 0.247771\n",
            "Epoch[82/100],d_loss:0.797962,g_loss:1.999464 D real: 0.724151,D fake: 0.250185\n",
            "Epoch[82/100],d_loss:0.619338,g_loss:1.873794 D real: 0.764382,D fake: 0.173496\n",
            "Epoch[83/100],d_loss:0.950447,g_loss:2.218690 D real: 0.670484,D fake: 0.238172\n",
            "Epoch[83/100],d_loss:0.946561,g_loss:1.453244 D real: 0.777422,D fake: 0.335374\n",
            "Epoch[83/100],d_loss:0.908955,g_loss:1.816625 D real: 0.712483,D fake: 0.259530\n",
            "Epoch[83/100],d_loss:0.812598,g_loss:2.167534 D real: 0.722733,D fake: 0.220548\n",
            "Epoch[84/100],d_loss:0.833011,g_loss:2.846253 D real: 0.662702,D fake: 0.158234\n",
            "Epoch[84/100],d_loss:0.830146,g_loss:1.871933 D real: 0.773820,D fake: 0.271960\n",
            "Epoch[84/100],d_loss:0.444458,g_loss:2.642462 D real: 0.830110,D fake: 0.156636\n",
            "Epoch[84/100],d_loss:0.816917,g_loss:2.052838 D real: 0.713810,D fake: 0.242449\n",
            "Epoch[85/100],d_loss:0.852598,g_loss:2.266998 D real: 0.790409,D fake: 0.323253\n",
            "Epoch[85/100],d_loss:0.879898,g_loss:1.853205 D real: 0.753593,D fake: 0.310781\n",
            "Epoch[85/100],d_loss:0.838537,g_loss:1.296051 D real: 0.825422,D fake: 0.365481\n",
            "Epoch[85/100],d_loss:0.988113,g_loss:2.112378 D real: 0.608678,D fake: 0.171178\n",
            "Epoch[86/100],d_loss:0.631961,g_loss:2.243100 D real: 0.761837,D fake: 0.176338\n",
            "Epoch[86/100],d_loss:0.760430,g_loss:2.120746 D real: 0.824721,D fake: 0.298783\n",
            "Epoch[86/100],d_loss:0.974927,g_loss:1.835646 D real: 0.699040,D fake: 0.304057\n",
            "Epoch[86/100],d_loss:0.819919,g_loss:1.956624 D real: 0.752343,D fake: 0.252818\n",
            "Epoch[87/100],d_loss:0.808509,g_loss:1.852014 D real: 0.795521,D fake: 0.322332\n",
            "Epoch[87/100],d_loss:0.630027,g_loss:2.218579 D real: 0.731695,D fake: 0.132103\n",
            "Epoch[87/100],d_loss:0.924954,g_loss:1.684639 D real: 0.766993,D fake: 0.358091\n",
            "Epoch[87/100],d_loss:0.800110,g_loss:1.845687 D real: 0.813361,D fake: 0.289074\n",
            "Epoch[88/100],d_loss:0.767147,g_loss:2.128165 D real: 0.724764,D fake: 0.194222\n",
            "Epoch[88/100],d_loss:0.653862,g_loss:2.457592 D real: 0.801696,D fake: 0.253373\n",
            "Epoch[88/100],d_loss:0.814156,g_loss:2.405807 D real: 0.700503,D fake: 0.181175\n",
            "Epoch[88/100],d_loss:0.652835,g_loss:2.906070 D real: 0.837804,D fake: 0.281668\n",
            "Epoch[89/100],d_loss:0.660853,g_loss:2.592799 D real: 0.799481,D fake: 0.224946\n",
            "Epoch[89/100],d_loss:0.801671,g_loss:2.146057 D real: 0.683137,D fake: 0.169987\n",
            "Epoch[89/100],d_loss:0.939321,g_loss:1.551100 D real: 0.718767,D fake: 0.274002\n",
            "Epoch[89/100],d_loss:0.762773,g_loss:1.905556 D real: 0.756297,D fake: 0.258244\n",
            "Epoch[90/100],d_loss:0.652983,g_loss:1.833646 D real: 0.806268,D fake: 0.240533\n",
            "Epoch[90/100],d_loss:0.761402,g_loss:1.651266 D real: 0.762967,D fake: 0.264024\n",
            "Epoch[90/100],d_loss:0.847754,g_loss:1.945286 D real: 0.809755,D fake: 0.304681\n",
            "Epoch[90/100],d_loss:0.896648,g_loss:2.067798 D real: 0.694373,D fake: 0.254067\n",
            "Epoch[91/100],d_loss:0.676170,g_loss:2.025056 D real: 0.822543,D fake: 0.282663\n",
            "Epoch[91/100],d_loss:0.686223,g_loss:2.367463 D real: 0.761485,D fake: 0.203234\n",
            "Epoch[91/100],d_loss:0.818887,g_loss:1.756465 D real: 0.843576,D fake: 0.381808\n",
            "Epoch[91/100],d_loss:0.746700,g_loss:2.419469 D real: 0.708575,D fake: 0.169213\n",
            "Epoch[92/100],d_loss:1.008950,g_loss:2.224637 D real: 0.635324,D fake: 0.208565\n",
            "Epoch[92/100],d_loss:0.851653,g_loss:2.114324 D real: 0.760975,D fake: 0.257575\n",
            "Epoch[92/100],d_loss:0.906254,g_loss:1.895080 D real: 0.671301,D fake: 0.241307\n",
            "Epoch[92/100],d_loss:0.902220,g_loss:1.561643 D real: 0.780707,D fake: 0.336798\n",
            "Epoch[93/100],d_loss:0.580474,g_loss:2.230756 D real: 0.813086,D fake: 0.211151\n",
            "Epoch[93/100],d_loss:0.919905,g_loss:1.683079 D real: 0.705155,D fake: 0.279391\n",
            "Epoch[93/100],d_loss:0.919570,g_loss:1.996791 D real: 0.690108,D fake: 0.234546\n",
            "Epoch[93/100],d_loss:0.858798,g_loss:1.291292 D real: 0.701268,D fake: 0.272776\n",
            "Epoch[94/100],d_loss:0.748425,g_loss:2.057736 D real: 0.704075,D fake: 0.206299\n",
            "Epoch[94/100],d_loss:0.800674,g_loss:1.920584 D real: 0.701181,D fake: 0.223173\n",
            "Epoch[94/100],d_loss:0.827995,g_loss:1.866332 D real: 0.748914,D fake: 0.270110\n",
            "Epoch[94/100],d_loss:0.966809,g_loss:1.542560 D real: 0.657314,D fake: 0.228342\n",
            "Epoch[95/100],d_loss:0.810606,g_loss:1.563864 D real: 0.752577,D fake: 0.296039\n",
            "Epoch[95/100],d_loss:0.783999,g_loss:1.708694 D real: 0.737040,D fake: 0.273638\n",
            "Epoch[95/100],d_loss:0.700806,g_loss:1.937813 D real: 0.752254,D fake: 0.225962\n",
            "Epoch[95/100],d_loss:0.726034,g_loss:2.219316 D real: 0.754485,D fake: 0.226545\n",
            "Epoch[96/100],d_loss:0.939364,g_loss:1.525812 D real: 0.743193,D fake: 0.322199\n",
            "Epoch[96/100],d_loss:0.881205,g_loss:1.981649 D real: 0.737282,D fake: 0.319166\n",
            "Epoch[96/100],d_loss:0.741398,g_loss:1.607276 D real: 0.774776,D fake: 0.272903\n",
            "Epoch[96/100],d_loss:0.762143,g_loss:1.635444 D real: 0.759632,D fake: 0.260871\n",
            "Epoch[97/100],d_loss:0.707639,g_loss:1.903781 D real: 0.848958,D fake: 0.319379\n",
            "Epoch[97/100],d_loss:0.838497,g_loss:1.442616 D real: 0.734047,D fake: 0.284234\n",
            "Epoch[97/100],d_loss:1.153253,g_loss:1.735274 D real: 0.614569,D fake: 0.299746\n",
            "Epoch[97/100],d_loss:0.880992,g_loss:1.719240 D real: 0.727666,D fake: 0.283131\n",
            "Epoch[98/100],d_loss:1.028952,g_loss:1.726008 D real: 0.734008,D fake: 0.368892\n",
            "Epoch[98/100],d_loss:1.208023,g_loss:1.395329 D real: 0.560579,D fake: 0.274801\n",
            "Epoch[98/100],d_loss:0.816569,g_loss:2.029592 D real: 0.742160,D fake: 0.249037\n",
            "Epoch[98/100],d_loss:0.861817,g_loss:1.869281 D real: 0.758723,D fake: 0.314352\n",
            "Epoch[99/100],d_loss:0.667821,g_loss:1.536861 D real: 0.789474,D fake: 0.252435\n",
            "Epoch[99/100],d_loss:1.205957,g_loss:1.109742 D real: 0.603831,D fake: 0.320810\n",
            "Epoch[99/100],d_loss:0.932991,g_loss:1.772135 D real: 0.747094,D fake: 0.335277\n",
            "Epoch[99/100],d_loss:0.978921,g_loss:1.723997 D real: 0.756329,D fake: 0.370533\n"
          ]
        }
      ]
    },
    {
      "cell_type": "markdown",
      "source": [
        "**Save Model**"
      ],
      "metadata": {
        "id": "vxmmT5e8cgJQ"
      }
    },
    {
      "cell_type": "code",
      "source": [
        "torch.save(G.state_dict(), './generator.pth')\n",
        "torch.save(D.state_dict, './discriminator.pth')"
      ],
      "metadata": {
        "id": "ug89vR6xciiN"
      },
      "execution_count": 34,
      "outputs": []
    }
  ]
}