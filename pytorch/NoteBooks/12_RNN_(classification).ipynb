{
  "nbformat": 4,
  "nbformat_minor": 0,
  "metadata": {
    "colab": {
      "name": "12.RNN (classification).ipynb",
      "provenance": [],
      "collapsed_sections": []
    },
    "kernelspec": {
      "name": "python3",
      "display_name": "Python 3"
    },
    "language_info": {
      "name": "python"
    },
    "accelerator": "GPU"
  },
  "cells": [
    {
      "cell_type": "code",
      "execution_count": 1,
      "metadata": {
        "id": "O-V65tQcJ2tG"
      },
      "outputs": [],
      "source": [
        "import torch\n",
        "from torch import nn\n",
        "import torchvision.datasets as dsets\n",
        "import torchvision.transforms as transforms\n",
        "import matplotlib.pyplot as plt"
      ]
    },
    {
      "cell_type": "code",
      "source": [
        "device = torch.device('cuda') if torch.cuda.is_available() else torch.device('cpu')"
      ],
      "metadata": {
        "id": "exRkJYgcKLyN"
      },
      "execution_count": 2,
      "outputs": []
    },
    {
      "cell_type": "markdown",
      "source": [
        "**Hyper Parameters**"
      ],
      "metadata": {
        "id": "9ruyi068MB4D"
      }
    },
    {
      "cell_type": "code",
      "source": [
        "EPOCH = 2\n",
        "BATCH_SIZE = 64\n",
        "TIME_STEP = 28\n",
        "INPUT_SIZE = 28\n",
        "LR = 0.01"
      ],
      "metadata": {
        "id": "cLIrN5IuMBcr"
      },
      "execution_count": 3,
      "outputs": []
    },
    {
      "cell_type": "markdown",
      "source": [
        "**Prepare Dataset**"
      ],
      "metadata": {
        "id": "zbe_IAO8NElK"
      }
    },
    {
      "cell_type": "code",
      "source": [
        "train_data = dsets.MNIST(root='/.mnist', train=True, transform=transforms.ToTensor(), download=True)"
      ],
      "metadata": {
        "id": "BMhcDmMiMP6y"
      },
      "execution_count": 4,
      "outputs": []
    },
    {
      "cell_type": "code",
      "source": [
        "data_loader = torch.utils.data.DataLoader(dataset=train_data, batch_size=BATCH_SIZE, shuffle=True)"
      ],
      "metadata": {
        "id": "SVvxigIGMyqz"
      },
      "execution_count": 5,
      "outputs": []
    },
    {
      "cell_type": "code",
      "source": [
        "test_data = dsets.MNIST(root='/.mnist', train=False, transform=transforms.ToTensor(), download=True)\n",
        "test_x = test_data.test_data.type(torch.FloatTensor)[:2000].to(device)/255.   # shape from (2000, 28, 28) to (2000, 1, 28, 28), value in range(0,1)\n",
        "test_y = test_data.test_labels[:2000].to(device)"
      ],
      "metadata": {
        "colab": {
          "base_uri": "https://localhost:8080/"
        },
        "id": "o_EMbG4HNBoK",
        "outputId": "eb11da5a-e11e-4bcc-98f3-4ac22cafe504"
      },
      "execution_count": 6,
      "outputs": [
        {
          "output_type": "stream",
          "name": "stderr",
          "text": [
            "/usr/local/lib/python3.7/dist-packages/torchvision/datasets/mnist.py:67: UserWarning: test_data has been renamed data\n",
            "  warnings.warn(\"test_data has been renamed data\")\n",
            "/usr/local/lib/python3.7/dist-packages/torchvision/datasets/mnist.py:57: UserWarning: test_labels has been renamed targets\n",
            "  warnings.warn(\"test_labels has been renamed targets\")\n"
          ]
        }
      ]
    },
    {
      "cell_type": "markdown",
      "source": [
        "**RNN Model**"
      ],
      "metadata": {
        "id": "IBH8MVcRNVii"
      }
    },
    {
      "cell_type": "code",
      "source": [
        "class RNN(nn.Module):\n",
        "  def __init__(self) -> None:\n",
        "      super(RNN, self).__init__()\n",
        "\n",
        "      self.rnn = nn.LSTM(\n",
        "          input_size=INPUT_SIZE,\n",
        "          hidden_size=64,\n",
        "          num_layers=2, # strength of RNN\n",
        "          batch_first=True, # (batch, time_step, input)\n",
        "      )\n",
        "\n",
        "      self.out = nn.Linear(in_features=64,out_features=10)\n",
        "  \n",
        "\n",
        "  def forward(self,x):\n",
        "    r_out, (h_n, h_c) = self.rnn(x,None)  # x (batch, time_step, input_size)\n",
        "    out = self.out(r_out[:,-1,:]) # (batch, time step, input) this means last time step\n",
        "    return out"
      ],
      "metadata": {
        "id": "bMJ8OJr5NXSo"
      },
      "execution_count": 7,
      "outputs": []
    },
    {
      "cell_type": "code",
      "source": [
        "rnn = RNN().to(device)\n",
        "print(rnn)"
      ],
      "metadata": {
        "colab": {
          "base_uri": "https://localhost:8080/"
        },
        "id": "EFswXdGNRWnT",
        "outputId": "ffc7897e-ea70-4c51-84fa-9d09a8b3c1e0"
      },
      "execution_count": 8,
      "outputs": [
        {
          "output_type": "stream",
          "name": "stdout",
          "text": [
            "RNN(\n",
            "  (rnn): LSTM(28, 64, num_layers=2, batch_first=True)\n",
            "  (out): Linear(in_features=64, out_features=10, bias=True)\n",
            ")\n"
          ]
        }
      ]
    },
    {
      "cell_type": "markdown",
      "source": [
        "**Loss and Optimizer**"
      ],
      "metadata": {
        "id": "p7epIMkrRpLR"
      }
    },
    {
      "cell_type": "code",
      "source": [
        "optimizer = torch.optim.Adam(rnn.parameters(),lr=LR)\n",
        "loss_func = nn.CrossEntropyLoss()"
      ],
      "metadata": {
        "id": "ZR22QREcRq9w"
      },
      "execution_count": 9,
      "outputs": []
    },
    {
      "cell_type": "markdown",
      "source": [
        "**Training Loop**"
      ],
      "metadata": {
        "id": "br4n2hE_RzQ_"
      }
    },
    {
      "cell_type": "code",
      "source": [
        "for epoch in range(EPOCH):\n",
        "  for step, (x,y) in enumerate(data_loader):\n",
        "    b_x = x.view(-1,28,28).to(device)\n",
        "    b_y = y.to(device)\n",
        "    output = rnn(b_x)\n",
        "\n",
        "    loss = loss_func(output,b_y)\n",
        "\n",
        "    optimizer.zero_grad()\n",
        "    loss.backward()\n",
        "    optimizer.step()\n",
        "\n",
        "    if epoch % 50 == 0 and step % 50 == 0:\n",
        "      test_output = rnn(test_x)\n",
        "      pred_y = torch.max(test_output, 1)[1].data.squeeze()\n",
        "      accuracy = sum(pred_y == test_y) / float(test_y.size(0))\n",
        "      print('Epoch: ', epoch, '| train loss: %.4f' % loss.data.cpu().numpy(), '| test accuracy: %.2f' % accuracy)"
      ],
      "metadata": {
        "colab": {
          "base_uri": "https://localhost:8080/"
        },
        "id": "7GJ1ZIhJR1t4",
        "outputId": "d84002de-df09-406c-a667-18ef554b6c00"
      },
      "execution_count": 10,
      "outputs": [
        {
          "output_type": "stream",
          "name": "stdout",
          "text": [
            "Epoch:  0 | train loss: 2.3073 | test accuracy: 0.12\n",
            "Epoch:  0 | train loss: 1.3189 | test accuracy: 0.55\n",
            "Epoch:  0 | train loss: 0.7608 | test accuracy: 0.71\n",
            "Epoch:  0 | train loss: 0.6731 | test accuracy: 0.75\n",
            "Epoch:  0 | train loss: 0.6736 | test accuracy: 0.79\n",
            "Epoch:  0 | train loss: 0.5627 | test accuracy: 0.89\n",
            "Epoch:  0 | train loss: 0.3103 | test accuracy: 0.90\n",
            "Epoch:  0 | train loss: 0.2329 | test accuracy: 0.88\n",
            "Epoch:  0 | train loss: 0.3947 | test accuracy: 0.93\n",
            "Epoch:  0 | train loss: 0.2507 | test accuracy: 0.93\n",
            "Epoch:  0 | train loss: 0.3160 | test accuracy: 0.92\n",
            "Epoch:  0 | train loss: 0.2171 | test accuracy: 0.94\n",
            "Epoch:  0 | train loss: 0.1461 | test accuracy: 0.94\n",
            "Epoch:  0 | train loss: 0.1845 | test accuracy: 0.95\n",
            "Epoch:  0 | train loss: 0.0915 | test accuracy: 0.95\n",
            "Epoch:  0 | train loss: 0.1404 | test accuracy: 0.95\n",
            "Epoch:  0 | train loss: 0.2208 | test accuracy: 0.94\n",
            "Epoch:  0 | train loss: 0.0743 | test accuracy: 0.96\n",
            "Epoch:  0 | train loss: 0.2177 | test accuracy: 0.96\n"
          ]
        }
      ]
    },
    {
      "cell_type": "markdown",
      "source": [
        "**Plot**"
      ],
      "metadata": {
        "id": "_HjEg8rSUsB2"
      }
    },
    {
      "cell_type": "code",
      "source": [
        "test_output = rnn(test_x[:10].view(-1,28,28))\n",
        "pred_y = torch.max(test_output,1)[1].data.cpu().numpy().squeeze()\n",
        "print(pred_y, 'prediction number')\n",
        "print(test_y[:10], 'real number')"
      ],
      "metadata": {
        "colab": {
          "base_uri": "https://localhost:8080/"
        },
        "id": "Yjfc9qPhUuFj",
        "outputId": "3dea1cb9-5b06-47ae-a7ab-0bae36f3fac0"
      },
      "execution_count": 13,
      "outputs": [
        {
          "output_type": "stream",
          "name": "stdout",
          "text": [
            "[7 2 1 0 4 1 4 9 5 9] prediction number\n",
            "tensor([7, 2, 1, 0, 4, 1, 4, 9, 5, 9], device='cuda:0') real number\n"
          ]
        }
      ]
    }
  ]
}