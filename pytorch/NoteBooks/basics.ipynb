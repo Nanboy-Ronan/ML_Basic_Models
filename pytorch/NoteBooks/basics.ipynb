{
  "nbformat": 4,
  "nbformat_minor": 0,
  "metadata": {
    "colab": {
      "name": "basics.ipynb",
      "provenance": []
    },
    "kernelspec": {
      "name": "python3",
      "display_name": "Python 3"
    },
    "language_info": {
      "name": "python"
    }
  },
  "cells": [
    {
      "cell_type": "code",
      "execution_count": null,
      "metadata": {
        "id": "eQnuFaNzPOty"
      },
      "outputs": [],
      "source": [
        "import torch"
      ]
    },
    {
      "cell_type": "markdown",
      "source": [
        "create a uninitializaed tensor of size (5,3)"
      ],
      "metadata": {
        "id": "XR25FoxtPcnx"
      }
    },
    {
      "cell_type": "code",
      "source": [
        "x = torch.empty(5,3)\n",
        "x"
      ],
      "metadata": {
        "colab": {
          "base_uri": "https://localhost:8080/"
        },
        "id": "Ex_p6d_3PRzl",
        "outputId": "63e4dd3e-9f64-438a-e5b5-aee2a6e12c79"
      },
      "execution_count": null,
      "outputs": [
        {
          "output_type": "execute_result",
          "data": {
            "text/plain": [
              "tensor([[3.5248e-30, 3.0733e-41, 1.0240e-01],\n",
              "        [0.0000e+00, 1.4013e-45, 0.0000e+00],\n",
              "        [0.0000e+00, 0.0000e+00, 0.0000e+00],\n",
              "        [0.0000e+00, 0.0000e+00, 0.0000e+00],\n",
              "        [6.2479e-32, 3.0733e-41, 5.1305e-33]])"
            ]
          },
          "metadata": {},
          "execution_count": 36
        }
      ]
    },
    {
      "cell_type": "markdown",
      "source": [
        "Create a tensor of size (5,3) of random values."
      ],
      "metadata": {
        "id": "wkeFkplrQ5Pa"
      }
    },
    {
      "cell_type": "code",
      "source": [
        "x = torch.rand(5, 3)\n",
        "x"
      ],
      "metadata": {
        "colab": {
          "base_uri": "https://localhost:8080/"
        },
        "id": "1l2iUMFkPkBF",
        "outputId": "5029b82f-47a2-4e55-9f46-539634c28e81"
      },
      "execution_count": null,
      "outputs": [
        {
          "output_type": "execute_result",
          "data": {
            "text/plain": [
              "tensor([[0.3698, 0.0729, 0.3724],\n",
              "        [0.5871, 0.6035, 0.7450],\n",
              "        [0.5976, 0.1294, 0.2447],\n",
              "        [0.7407, 0.0985, 0.5452],\n",
              "        [0.0658, 0.1653, 0.3766]])"
            ]
          },
          "metadata": {},
          "execution_count": 37
        }
      ]
    },
    {
      "cell_type": "markdown",
      "source": [
        "Create a tensor of size (5,3) of zeros, type is long."
      ],
      "metadata": {
        "id": "OKwduXaDQ_WB"
      }
    },
    {
      "cell_type": "code",
      "source": [
        "x = torch.zeros(5,3,dtype=torch.long)\n",
        "x"
      ],
      "metadata": {
        "colab": {
          "base_uri": "https://localhost:8080/"
        },
        "id": "GeUBwJO_Q-pJ",
        "outputId": "70287083-5b20-4500-dffc-9da04b413405"
      },
      "execution_count": null,
      "outputs": [
        {
          "output_type": "execute_result",
          "data": {
            "text/plain": [
              "tensor([[0, 0, 0],\n",
              "        [0, 0, 0],\n",
              "        [0, 0, 0],\n",
              "        [0, 0, 0],\n",
              "        [0, 0, 0]])"
            ]
          },
          "metadata": {},
          "execution_count": 38
        }
      ]
    },
    {
      "cell_type": "markdown",
      "source": [
        "Create a tensor of size (5,3) of ones, type is double."
      ],
      "metadata": {
        "id": "Dfl7Aq2sRcsC"
      }
    },
    {
      "cell_type": "code",
      "source": [
        "x = torch.ones(5,3,dtype=torch.double)\n",
        "x"
      ],
      "metadata": {
        "colab": {
          "base_uri": "https://localhost:8080/"
        },
        "id": "gc7YuTvVRhEJ",
        "outputId": "f367399f-830a-4b0d-b306-d417897159c2"
      },
      "execution_count": null,
      "outputs": [
        {
          "output_type": "execute_result",
          "data": {
            "text/plain": [
              "tensor([[1., 1., 1.],\n",
              "        [1., 1., 1.],\n",
              "        [1., 1., 1.],\n",
              "        [1., 1., 1.],\n",
              "        [1., 1., 1.]], dtype=torch.float64)"
            ]
          },
          "metadata": {},
          "execution_count": 39
        }
      ]
    },
    {
      "cell_type": "markdown",
      "source": [
        "Create a tensor of size like x of random values, type is long."
      ],
      "metadata": {
        "id": "M6HI2LKcSSMo"
      }
    },
    {
      "cell_type": "code",
      "source": [
        "x = torch.rand_like(x, dtype=torch.float)\n",
        "x"
      ],
      "metadata": {
        "colab": {
          "base_uri": "https://localhost:8080/"
        },
        "id": "h8t951mgSRQi",
        "outputId": "8d2a2607-9c63-4995-a7a4-d5182f62a140"
      },
      "execution_count": null,
      "outputs": [
        {
          "output_type": "execute_result",
          "data": {
            "text/plain": [
              "tensor([[0.3335, 0.3213, 0.4877],\n",
              "        [0.5933, 0.9210, 0.8022],\n",
              "        [0.0842, 0.6413, 0.4098],\n",
              "        [0.6142, 0.3255, 0.9849],\n",
              "        [0.7713, 0.2165, 0.6584]])"
            ]
          },
          "metadata": {},
          "execution_count": 40
        }
      ]
    },
    {
      "cell_type": "markdown",
      "source": [
        "Create a tensor from python list."
      ],
      "metadata": {
        "id": "igJaSs3CQ-6R"
      }
    },
    {
      "cell_type": "code",
      "source": [
        "x = torch.tensor([5.5,3])\n",
        "x"
      ],
      "metadata": {
        "colab": {
          "base_uri": "https://localhost:8080/"
        },
        "id": "AqIHrhBkRTLC",
        "outputId": "f481090f-5ae7-470b-ae2f-c57b1b82460a"
      },
      "execution_count": null,
      "outputs": [
        {
          "output_type": "execute_result",
          "data": {
            "text/plain": [
              "tensor([5.5000, 3.0000])"
            ]
          },
          "metadata": {},
          "execution_count": 41
        }
      ]
    },
    {
      "cell_type": "markdown",
      "source": [
        "Print the size of the tensor and tensor arithmatic."
      ],
      "metadata": {
        "id": "MeZfD60ISlNZ"
      }
    },
    {
      "cell_type": "code",
      "source": [
        "x = torch.ones(5,3)\n",
        "print(x.size())\n",
        "\n",
        "# initialize another tensor called y\n",
        "y = torch.tensor([[1,2,3],[4,5,6],[7,8,9],[10,11,12],[13,14,15]])\n",
        "print(y.size())\n",
        "# add two tensors\n",
        "result = x + y\n",
        "print(result)\n",
        "\n",
        "# Method 2\n",
        "# result = torch.add(x,y)\n",
        "# print(result)\n",
        "\n",
        "# Method 3\n",
        "# result = torch.empty(5, 3)\n",
        "# torch.add(x, y, out=result)\n",
        "# print(result)\n",
        "\n",
        "# Method 4\n",
        "# y.add_(x)\n",
        "# print(y)\n"
      ],
      "metadata": {
        "colab": {
          "base_uri": "https://localhost:8080/"
        },
        "id": "g2_zrzXFRZAC",
        "outputId": "857490f2-0bd6-4c7c-fb7d-1a619ecfc6a8"
      },
      "execution_count": null,
      "outputs": [
        {
          "output_type": "stream",
          "name": "stdout",
          "text": [
            "torch.Size([5, 3])\n",
            "torch.Size([5, 3])\n",
            "tensor([[ 2.,  3.,  4.],\n",
            "        [ 5.,  6.,  7.],\n",
            "        [ 8.,  9., 10.],\n",
            "        [11., 12., 13.],\n",
            "        [14., 15., 16.]])\n"
          ]
        }
      ]
    },
    {
      "cell_type": "markdown",
      "source": [
        "Select part of the tensor."
      ],
      "metadata": {
        "id": "vIe1BI6IEhgJ"
      }
    },
    {
      "cell_type": "code",
      "source": [
        "print(y)\n",
        "temp = y[:,1]\n",
        "print(temp)"
      ],
      "metadata": {
        "colab": {
          "base_uri": "https://localhost:8080/"
        },
        "id": "xigxzKyVEhC6",
        "outputId": "c09e8b44-3f21-488e-ac5e-6fc357c54bf8"
      },
      "execution_count": null,
      "outputs": [
        {
          "output_type": "stream",
          "name": "stdout",
          "text": [
            "tensor([[ 1,  2,  3],\n",
            "        [ 4,  5,  6],\n",
            "        [ 7,  8,  9],\n",
            "        [10, 11, 12],\n",
            "        [13, 14, 15]])\n",
            "tensor([ 2,  5,  8, 11, 14])\n"
          ]
        }
      ]
    },
    {
      "cell_type": "markdown",
      "source": [
        "Resize"
      ],
      "metadata": {
        "id": "sMIyNi02E0vS"
      }
    },
    {
      "cell_type": "code",
      "source": [
        "x = torch.randn(4,4)\n",
        "print(x)\n",
        "y = x.view(16) # resize x to one dimentional tensor\n",
        "print(y)\n",
        "print(x.size(),y.size())"
      ],
      "metadata": {
        "colab": {
          "base_uri": "https://localhost:8080/"
        },
        "id": "hC9CFwEPE15h",
        "outputId": "bd16aecd-ed6c-47f8-cb60-eef9306ce808"
      },
      "execution_count": null,
      "outputs": [
        {
          "output_type": "stream",
          "name": "stdout",
          "text": [
            "tensor([[ 0.0190,  0.1350, -0.0315,  0.6508],\n",
            "        [-0.5859,  0.3460,  0.1350,  0.0881],\n",
            "        [ 0.8605, -0.9134,  0.3311,  0.2386],\n",
            "        [-0.6012,  1.6718, -0.2581,  0.6081]])\n",
            "tensor([ 0.0190,  0.1350, -0.0315,  0.6508, -0.5859,  0.3460,  0.1350,  0.0881,\n",
            "         0.8605, -0.9134,  0.3311,  0.2386, -0.6012,  1.6718, -0.2581,  0.6081])\n",
            "torch.Size([4, 4]) torch.Size([16])\n"
          ]
        }
      ]
    },
    {
      "cell_type": "code",
      "source": [
        "print(x)\n",
        "y = x.view(2,8) # traverse x from every row, and resize\n",
        "print(y)\n",
        "print(x.size(),y.size())"
      ],
      "metadata": {
        "colab": {
          "base_uri": "https://localhost:8080/"
        },
        "id": "_1f88uyfFX4y",
        "outputId": "34f5a40c-be30-4d94-a03e-ab3c7a1861fe"
      },
      "execution_count": null,
      "outputs": [
        {
          "output_type": "stream",
          "name": "stdout",
          "text": [
            "tensor([[ 0.0190,  0.1350, -0.0315,  0.6508],\n",
            "        [-0.5859,  0.3460,  0.1350,  0.0881],\n",
            "        [ 0.8605, -0.9134,  0.3311,  0.2386],\n",
            "        [-0.6012,  1.6718, -0.2581,  0.6081]])\n",
            "tensor([[ 0.0190,  0.1350, -0.0315,  0.6508, -0.5859,  0.3460,  0.1350,  0.0881],\n",
            "        [ 0.8605, -0.9134,  0.3311,  0.2386, -0.6012,  1.6718, -0.2581,  0.6081]])\n",
            "torch.Size([4, 4]) torch.Size([2, 8])\n"
          ]
        }
      ]
    },
    {
      "cell_type": "code",
      "source": [
        "print(x)\n",
        "z = x.view(-1,8) # same as above but only given second dimension, the first dimention is calculated automatically\n",
        "print(z)\n",
        "print(x.size(),z.size)"
      ],
      "metadata": {
        "colab": {
          "base_uri": "https://localhost:8080/"
        },
        "id": "r8K7SDY6FvTV",
        "outputId": "73199d10-f6a5-4f15-f03a-596fdc31a259"
      },
      "execution_count": null,
      "outputs": [
        {
          "output_type": "stream",
          "name": "stdout",
          "text": [
            "tensor([[ 0.0190,  0.1350, -0.0315,  0.6508],\n",
            "        [-0.5859,  0.3460,  0.1350,  0.0881],\n",
            "        [ 0.8605, -0.9134,  0.3311,  0.2386],\n",
            "        [-0.6012,  1.6718, -0.2581,  0.6081]])\n",
            "tensor([[ 0.0190,  0.1350, -0.0315,  0.6508, -0.5859,  0.3460,  0.1350,  0.0881],\n",
            "        [ 0.8605, -0.9134,  0.3311,  0.2386, -0.6012,  1.6718, -0.2581,  0.6081]])\n",
            "torch.Size([4, 4]) <built-in method size of Tensor object at 0x7f4d8441ea70>\n"
          ]
        }
      ]
    },
    {
      "cell_type": "markdown",
      "source": [
        "Extract number from tensor"
      ],
      "metadata": {
        "id": "olo-jkPwF-U0"
      }
    },
    {
      "cell_type": "code",
      "source": [
        "x = torch.randn(1)\n",
        "print(x)\n",
        "temp = x.item()\n",
        "print(temp)"
      ],
      "metadata": {
        "colab": {
          "base_uri": "https://localhost:8080/"
        },
        "id": "04LMJwagGB3x",
        "outputId": "73f49667-76e5-4ab4-c827-8c0afdc28bd9"
      },
      "execution_count": null,
      "outputs": [
        {
          "output_type": "stream",
          "name": "stdout",
          "text": [
            "tensor([-0.8057])\n",
            "-0.8057359457015991\n"
          ]
        }
      ]
    },
    {
      "cell_type": "markdown",
      "source": [
        "**Numpy**"
      ],
      "metadata": {
        "id": "K3smEuiSGPIT"
      }
    },
    {
      "cell_type": "code",
      "source": [
        "a = torch.ones(5)\n",
        "print(a)\n",
        "\n",
        "b = a.numpy()\n",
        "print(b)"
      ],
      "metadata": {
        "colab": {
          "base_uri": "https://localhost:8080/"
        },
        "id": "Amxg0GJwGSBx",
        "outputId": "4dba30de-edab-4c8c-9238-54553a2132dd"
      },
      "execution_count": null,
      "outputs": [
        {
          "output_type": "stream",
          "name": "stdout",
          "text": [
            "tensor([1., 1., 1., 1., 1.])\n",
            "[1. 1. 1. 1. 1.]\n"
          ]
        }
      ]
    },
    {
      "cell_type": "code",
      "source": [
        "a.add_(1) # add the given number element-wise\n",
        "print(a)\n",
        "print(b)"
      ],
      "metadata": {
        "colab": {
          "base_uri": "https://localhost:8080/"
        },
        "id": "AVxmx4joG2ep",
        "outputId": "0166cc71-bbf5-438e-aefc-1359fae8bd72"
      },
      "execution_count": null,
      "outputs": [
        {
          "output_type": "stream",
          "name": "stdout",
          "text": [
            "tensor([2., 2., 2., 2., 2.])\n",
            "[2. 2. 2. 2. 2.]\n"
          ]
        }
      ]
    },
    {
      "cell_type": "markdown",
      "source": [
        "Create tensor from numpy"
      ],
      "metadata": {
        "id": "eIaiSBgoHOe5"
      }
    },
    {
      "cell_type": "code",
      "source": [
        "import numpy as np"
      ],
      "metadata": {
        "id": "4kyE_01THQXI"
      },
      "execution_count": null,
      "outputs": []
    },
    {
      "cell_type": "code",
      "source": [
        "a = np.ones(5)\n",
        "b = torch.from_numpy(a)\n",
        "print(a)\n",
        "print(b)"
      ],
      "metadata": {
        "colab": {
          "base_uri": "https://localhost:8080/"
        },
        "id": "nqroHbHBHUgP",
        "outputId": "e5cde0fe-a1fb-486b-b5ee-d15ca8dd4417"
      },
      "execution_count": null,
      "outputs": [
        {
          "output_type": "stream",
          "name": "stdout",
          "text": [
            "[1. 1. 1. 1. 1.]\n",
            "tensor([1., 1., 1., 1., 1.], dtype=torch.float64)\n"
          ]
        }
      ]
    },
    {
      "cell_type": "code",
      "source": [
        "np.add(a,1,out=a) # a = a + 1\n",
        "print(a)\n",
        "print(b)"
      ],
      "metadata": {
        "colab": {
          "base_uri": "https://localhost:8080/"
        },
        "id": "BaJjHAtOHbVF",
        "outputId": "a976087d-4450-4f58-e7ea-4f174a507493"
      },
      "execution_count": null,
      "outputs": [
        {
          "output_type": "stream",
          "name": "stdout",
          "text": [
            "[2. 2. 2. 2. 2.]\n",
            "tensor([2., 2., 2., 2., 2.], dtype=torch.float64)\n"
          ]
        }
      ]
    },
    {
      "cell_type": "markdown",
      "source": [
        "**Auto-Differential in tensor**"
      ],
      "metadata": {
        "id": "Nzk7QVY1HwY7"
      }
    },
    {
      "cell_type": "code",
      "source": [
        "x = torch.ones(2,2,requires_grad=True)\n",
        "print(x)"
      ],
      "metadata": {
        "colab": {
          "base_uri": "https://localhost:8080/"
        },
        "id": "Pc7Sj6_DHylu",
        "outputId": "cf4517af-262e-47e5-9869-1a22f48b41ab"
      },
      "execution_count": null,
      "outputs": [
        {
          "output_type": "stream",
          "name": "stdout",
          "text": [
            "tensor([[1., 1.],\n",
            "        [1., 1.]], requires_grad=True)\n"
          ]
        }
      ]
    },
    {
      "cell_type": "code",
      "source": [
        "y = x + 2\n",
        "print(y)\n",
        "print(y.grad_fn) # AddBackward"
      ],
      "metadata": {
        "colab": {
          "base_uri": "https://localhost:8080/"
        },
        "id": "e8FYx0CRH5Wn",
        "outputId": "142a0aa1-2178-4531-e40e-8dcab726b9e6"
      },
      "execution_count": null,
      "outputs": [
        {
          "output_type": "stream",
          "name": "stdout",
          "text": [
            "tensor([[3., 3.],\n",
            "        [3., 3.]], grad_fn=<AddBackward0>)\n",
            "<AddBackward0 object at 0x7f4d84551090>\n"
          ]
        }
      ]
    },
    {
      "cell_type": "code",
      "source": [
        "z = y*y*3 # z = 3y^2\n",
        "out = z.mean() # out = 0.25*sum(3y^2)\n",
        "\n",
        "print(z) # MulBackward\n",
        "print(out) # MeanBackWard"
      ],
      "metadata": {
        "colab": {
          "base_uri": "https://localhost:8080/"
        },
        "id": "4QUPTOWcINl7",
        "outputId": "0677e8e5-99aa-4cb0-e4e5-1ac64e7cf5c5"
      },
      "execution_count": null,
      "outputs": [
        {
          "output_type": "stream",
          "name": "stdout",
          "text": [
            "tensor([[27., 27.],\n",
            "        [27., 27.]], grad_fn=<MulBackward0>)\n",
            "tensor(27., grad_fn=<MeanBackward0>)\n"
          ]
        }
      ]
    },
    {
      "cell_type": "markdown",
      "source": [
        "**Gradient**"
      ],
      "metadata": {
        "id": "6zbxSvNYIqYH"
      }
    },
    {
      "cell_type": "code",
      "source": [
        "out.backward() # out = 0.25*sum(3y^2) = 0.25*sum(3*(x+2)^2)\n",
        "print(out)"
      ],
      "metadata": {
        "id": "pLXMZiAFIs7n",
        "colab": {
          "base_uri": "https://localhost:8080/"
        },
        "outputId": "068ee84c-89e8-4bc0-bb6d-4517e475a6c4"
      },
      "execution_count": null,
      "outputs": [
        {
          "output_type": "stream",
          "name": "stdout",
          "text": [
            "tensor(27., grad_fn=<MeanBackward0>)\n"
          ]
        }
      ]
    },
    {
      "cell_type": "markdown",
      "source": [
        "Print the gradient d(out)/dx"
      ],
      "metadata": {
        "id": "D8dICGyKI_CP"
      }
    },
    {
      "cell_type": "code",
      "source": [
        "print(x.grad) # gradient = 0.5*3*(x+2) = 0.5*3*3"
      ],
      "metadata": {
        "colab": {
          "base_uri": "https://localhost:8080/"
        },
        "id": "1y-x68inIyVg",
        "outputId": "c9b0d695-6f38-4d85-83c1-dd4f3148a819"
      },
      "execution_count": null,
      "outputs": [
        {
          "output_type": "stream",
          "name": "stdout",
          "text": [
            "tensor([[4.5000, 4.5000],\n",
            "        [4.5000, 4.5000]])\n"
          ]
        }
      ]
    },
    {
      "cell_type": "markdown",
      "source": [
        "View the process of calculating gradient for a vector"
      ],
      "metadata": {
        "id": "66Tgy5vUKNkf"
      }
    },
    {
      "cell_type": "code",
      "source": [
        "x = torch.randn(3,requires_grad=True)\n",
        "print(x)\n",
        "\n",
        "y = x*2 # y = 2x\n",
        "print(y)\n",
        "print(y.data)\n",
        "print(y.data.norm()) # L2-norm"
      ],
      "metadata": {
        "colab": {
          "base_uri": "https://localhost:8080/"
        },
        "id": "lZeANZuwKSmE",
        "outputId": "5ba60052-a4fe-4b0e-8afa-7daa0b19a266"
      },
      "execution_count": null,
      "outputs": [
        {
          "output_type": "stream",
          "name": "stdout",
          "text": [
            "tensor([-0.2053,  0.1247,  0.7780], requires_grad=True)\n",
            "tensor([-0.4106,  0.2494,  1.5560], grad_fn=<MulBackward0>)\n",
            "tensor([-0.4106,  0.2494,  1.5560])\n",
            "tensor(1.6285)\n"
          ]
        }
      ]
    },
    {
      "cell_type": "code",
      "source": [
        "while y.data.norm() < 1000:\n",
        "  y = y*2\n",
        "print(y)"
      ],
      "metadata": {
        "colab": {
          "base_uri": "https://localhost:8080/"
        },
        "id": "E_cYxxAhKvDm",
        "outputId": "90100807-2b03-4671-91e7-f7a7bc703b54"
      },
      "execution_count": null,
      "outputs": [
        {
          "output_type": "stream",
          "name": "stdout",
          "text": [
            "tensor([-420.4053,  255.4222, 1593.3810], grad_fn=<MulBackward0>)\n"
          ]
        }
      ]
    },
    {
      "cell_type": "markdown",
      "source": [
        "Calculate the gradient at position v"
      ],
      "metadata": {
        "id": "dIFZMgOmMN5z"
      }
    },
    {
      "cell_type": "code",
      "source": [
        "v = torch.tensor([0.1,1,0.0001],dtype=torch.float)\n",
        "y.backward(v)\n",
        "\n",
        "result = x.grad # dy/dx at position v\n",
        "print(result)"
      ],
      "metadata": {
        "colab": {
          "base_uri": "https://localhost:8080/"
        },
        "id": "lFxqclIzMNbi",
        "outputId": "6885d874-547d-4da7-8aa3-c4b3e9a744aa"
      },
      "execution_count": null,
      "outputs": [
        {
          "output_type": "stream",
          "name": "stdout",
          "text": [
            "tensor([2.0480e+02, 2.0480e+03, 2.0480e-01])\n"
          ]
        }
      ]
    },
    {
      "cell_type": "markdown",
      "source": [
        "**Networks**"
      ],
      "metadata": {
        "id": "njP1EGIok7pm"
      }
    },
    {
      "cell_type": "code",
      "source": [
        "import torch\n",
        "import torch.nn as nn\n",
        "import torch.nn.functional as F"
      ],
      "metadata": {
        "id": "uKOtZ4Chk9rt"
      },
      "execution_count": null,
      "outputs": []
    },
    {
      "cell_type": "code",
      "source": [
        "class Net(nn.Module):\n",
        "  def __init__(self):\n",
        "    "
      ],
      "metadata": {
        "id": "ySGJPfhclb-1"
      },
      "execution_count": null,
      "outputs": []
    }
  ]
}