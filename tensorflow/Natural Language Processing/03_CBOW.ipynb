{
  "nbformat": 4,
  "nbformat_minor": 0,
  "metadata": {
    "colab": {
      "name": "03.CBOW.ipynb",
      "provenance": []
    },
    "kernelspec": {
      "name": "python3",
      "display_name": "Python 3"
    },
    "language_info": {
      "name": "python"
    },
    "accelerator": "GPU"
  },
  "cells": [
    {
      "cell_type": "markdown",
      "source": [
        "**Continuous Bag of Word**"
      ],
      "metadata": {
        "id": "1L0D0ou41q0J"
      }
    },
    {
      "cell_type": "code",
      "execution_count": 1,
      "metadata": {
        "id": "ymowwiKz1BzW"
      },
      "outputs": [],
      "source": [
        "from tensorflow import keras\n",
        "import tensorflow as tf\n",
        "import numpy as np"
      ]
    },
    {
      "cell_type": "code",
      "source": [
        "class Dataset:\n",
        "    def __init__(self, x, y, v2i, i2v):\n",
        "        self.x, self.y = x, y\n",
        "        self.v2i, self.i2v = v2i, i2v\n",
        "        self.vocab = v2i.keys()\n",
        "\n",
        "    def sample(self, n):\n",
        "        b_idx = np.random.randint(0, len(self.x), n)\n",
        "        bx, by = self.x[b_idx], self.y[b_idx]\n",
        "        return bx, by\n",
        "\n",
        "    @property\n",
        "    def num_word(self):\n",
        "        return len(self.v2i)"
      ],
      "metadata": {
        "id": "iJfjROjX8Z-v"
      },
      "execution_count": 2,
      "outputs": []
    },
    {
      "cell_type": "code",
      "source": [
        "def process_w2v_data(corpus, skip_window=2, method=\"skip_gram\"):\n",
        "    all_words = [sentence.split(\" \") for sentence in corpus]\n",
        "    all_words = np.array(list(itertools.chain(*all_words)))\n",
        "    # vocab sort by decreasing frequency for the negative sampling below (nce_loss).\n",
        "    vocab, v_count = np.unique(all_words, return_counts=True)\n",
        "    vocab = vocab[np.argsort(v_count)[::-1]]\n",
        "\n",
        "    print(\"all vocabularies sorted from more frequent to less frequent:\\n\", vocab)\n",
        "    v2i = {v: i for i, v in enumerate(vocab)}\n",
        "    i2v = {i: v for v, i in v2i.items()}\n",
        "\n",
        "    # pair data\n",
        "    pairs = []\n",
        "    js = [i for i in range(-skip_window, skip_window + 1) if i != 0]\n",
        "\n",
        "    for c in corpus:\n",
        "        words = c.split(\" \")\n",
        "        w_idx = [v2i[w] for w in words]\n",
        "        if method == \"skip_gram\":\n",
        "            for i in range(len(w_idx)):\n",
        "                for j in js:\n",
        "                    if i + j < 0 or i + j >= len(w_idx):\n",
        "                        continue\n",
        "                    pairs.append((w_idx[i], w_idx[i + j]))  # (center, context) or (feature, target)\n",
        "        elif method.lower() == \"cbow\":\n",
        "            for i in range(skip_window, len(w_idx) - skip_window):\n",
        "                context = []\n",
        "                for j in js:\n",
        "                    context.append(w_idx[i + j])\n",
        "                pairs.append(context + [w_idx[i]])  # (contexts, center) or (feature, target)\n",
        "        else:\n",
        "            raise ValueError\n",
        "    pairs = np.array(pairs)\n",
        "    print(\"5 example pairs:\\n\", pairs[:5])\n",
        "    if method.lower() == \"skip_gram\":\n",
        "        x, y = pairs[:, 0], pairs[:, 1]\n",
        "    elif method.lower() == \"cbow\":\n",
        "        x, y = pairs[:, :-1], pairs[:, -1]\n",
        "    else:\n",
        "        raise ValueError\n",
        "    return Dataset(x, y, v2i, i2v)"
      ],
      "metadata": {
        "id": "btvdF1tW2yjx"
      },
      "execution_count": 3,
      "outputs": []
    },
    {
      "cell_type": "markdown",
      "source": [
        "**Fake Data**"
      ],
      "metadata": {
        "id": "saATPkeF2_0y"
      }
    },
    {
      "cell_type": "code",
      "source": [
        "corpus = [\n",
        "    # numbers\n",
        "    \"5 2 4 8 6 2 3 6 4\",\n",
        "    \"4 8 5 6 9 5 5 6\",\n",
        "    \"1 1 5 2 3 3 8\",\n",
        "    \"3 6 9 6 8 7 4 6 3\",\n",
        "    \"8 9 9 6 1 4 3 4\",\n",
        "    \"1 0 2 0 2 1 3 3 3 3 3\",\n",
        "    \"9 3 3 0 1 4 7 8\",\n",
        "    \"9 9 8 5 6 7 1 2 3 0 1 0\",\n",
        "\n",
        "    # alphabets, expecting that 9 is close to letters\n",
        "    \"a t g q e h 9 u f\",\n",
        "    \"e q y u o i p s\",\n",
        "    \"q o 9 p l k j o k k o p\",\n",
        "    \"h g y i u t t a e q\",\n",
        "    \"i k d q r e 9 e a d\",\n",
        "    \"o p d g 9 s a f g a\",\n",
        "    \"i u y g h k l a s w\",\n",
        "    \"o l u y a o g f s\",\n",
        "    \"o p i u y g d a s j d l\",\n",
        "    \"u k i l o 9 l j s\",\n",
        "    \"y g i s h k j l f r f\",\n",
        "    \"i o h n 9 9 d 9 f a 9\",\n",
        "]"
      ],
      "metadata": {
        "id": "62NP4WHe3BTy"
      },
      "execution_count": 4,
      "outputs": []
    },
    {
      "cell_type": "markdown",
      "source": [
        "**Word to Vector**"
      ],
      "metadata": {
        "id": "fhPPpuNl547O"
      }
    },
    {
      "cell_type": "code",
      "source": [
        "import itertools"
      ],
      "metadata": {
        "id": "fmiR_8IF8NbD"
      },
      "execution_count": 5,
      "outputs": []
    },
    {
      "cell_type": "code",
      "source": [
        "def process_w2v_data(corpus, skip_window=2, method=\"skip_gram\"):\n",
        "    all_words = [sentence.split(\" \") for sentence in corpus]\n",
        "    all_words = np.array(list(itertools.chain(*all_words)))\n",
        "    # vocab sort by decreasing frequency for the negative sampling below (nce_loss).\n",
        "    vocab, v_count = np.unique(all_words, return_counts=True)\n",
        "    vocab = vocab[np.argsort(v_count)[::-1]]\n",
        "\n",
        "    print(\"all vocabularies sorted from more frequent to less frequent:\\n\", vocab)\n",
        "    v2i = {v: i for i, v in enumerate(vocab)}\n",
        "    i2v = {i: v for v, i in v2i.items()}\n",
        "\n",
        "    # pair data\n",
        "    pairs = []\n",
        "    js = [i for i in range(-skip_window, skip_window + 1) if i != 0]\n",
        "\n",
        "    for c in corpus:\n",
        "        words = c.split(\" \")\n",
        "        w_idx = [v2i[w] for w in words]\n",
        "        if method == \"skip_gram\":\n",
        "            for i in range(len(w_idx)):\n",
        "                for j in js:\n",
        "                    if i + j < 0 or i + j >= len(w_idx):\n",
        "                        continue\n",
        "                    pairs.append((w_idx[i], w_idx[i + j]))  # (center, context) or (feature, target)\n",
        "        elif method.lower() == \"cbow\":\n",
        "            for i in range(skip_window, len(w_idx) - skip_window):\n",
        "                context = []\n",
        "                for j in js:\n",
        "                    context.append(w_idx[i + j])\n",
        "                pairs.append(context + [w_idx[i]])  # (contexts, center) or (feature, target)\n",
        "        else:\n",
        "            raise ValueError\n",
        "    pairs = np.array(pairs)\n",
        "    print(\"5 example pairs:\\n\", pairs[:5])\n",
        "    if method.lower() == \"skip_gram\":\n",
        "        x, y = pairs[:, 0], pairs[:, 1]\n",
        "    elif method.lower() == \"cbow\":\n",
        "        x, y = pairs[:, :-1], pairs[:, -1]\n",
        "    else:\n",
        "        raise ValueError\n",
        "    return Dataset(x, y, v2i, i2v)"
      ],
      "metadata": {
        "id": "B8sg8B_o4W85"
      },
      "execution_count": 6,
      "outputs": []
    },
    {
      "cell_type": "markdown",
      "source": [
        "**Model**"
      ],
      "metadata": {
        "id": "Xtb_GhZY3ZX6"
      }
    },
    {
      "cell_type": "code",
      "source": [
        "class CBOW(keras.Model):\n",
        "    def __init__(self, v_dim, emb_dim):\n",
        "        super().__init__()\n",
        "        self.v_dim = v_dim\n",
        "        self.embeddings = keras.layers.Embedding(\n",
        "            input_dim=v_dim, output_dim=emb_dim,  # [n_vocab, emb_dim]\n",
        "            embeddings_initializer=keras.initializers.RandomNormal(0., 0.1),\n",
        "        )\n",
        "\n",
        "        # noise-contrastive estimation\n",
        "        self.nce_w = self.add_weight(\n",
        "            name=\"nce_w\", shape=[v_dim, emb_dim],\n",
        "            initializer=keras.initializers.TruncatedNormal(0., 0.1))  # [n_vocab, emb_dim]\n",
        "        self.nce_b = self.add_weight(\n",
        "            name=\"nce_b\", shape=(v_dim,),\n",
        "            initializer=keras.initializers.Constant(0.1))  # [n_vocab, ]\n",
        "\n",
        "        self.opt = keras.optimizers.Adam(0.01)\n",
        "\n",
        "    def call(self, x, training=None, mask=None):\n",
        "        # x.shape = [n, skip_window*2]\n",
        "        o = self.embeddings(x)          # [n, skip_window*2, emb_dim]\n",
        "        o = tf.reduce_mean(o, axis=1)   # [n, emb_dim]\n",
        "        return o\n",
        "\n",
        "    # negative sampling: take one positive label and num_sampled negative labels to compute the loss\n",
        "    # in order to reduce the computation of full softmax\n",
        "    def loss(self, x, y, training=None):\n",
        "        embedded = self.call(x, training)\n",
        "        return tf.reduce_mean(\n",
        "            tf.nn.nce_loss(\n",
        "                weights=self.nce_w, biases=self.nce_b, labels=tf.expand_dims(y, axis=1),\n",
        "                inputs=embedded, num_sampled=5, num_classes=self.v_dim))\n",
        "\n",
        "    def step(self, x, y):\n",
        "        with tf.GradientTape() as tape:\n",
        "            loss = self.loss(x, y, True)\n",
        "            grads = tape.gradient(loss, self.trainable_variables)\n",
        "        self.opt.apply_gradients(zip(grads, self.trainable_variables))\n",
        "        return loss.numpy()\n",
        "\n",
        "\n",
        "def train(model, data):\n",
        "    for t in range(2500):\n",
        "        bx, by = data.sample(8)\n",
        "        loss = model.step(bx, by)\n",
        "        if t % 200 == 0:\n",
        "            print(\"step: {} | loss: {}\".format(t, loss))"
      ],
      "metadata": {
        "id": "MNFMVu3a3atY"
      },
      "execution_count": 7,
      "outputs": []
    },
    {
      "cell_type": "markdown",
      "source": [
        "**Graph Tool**"
      ],
      "metadata": {
        "id": "aJLNrmvb7sU9"
      }
    },
    {
      "cell_type": "code",
      "source": [
        "import matplotlib.pyplot as plt"
      ],
      "metadata": {
        "id": "LyyMekIc72p0"
      },
      "execution_count": 8,
      "outputs": []
    },
    {
      "cell_type": "code",
      "source": [
        "def show_w2v_word_embedding(model, data, path=None):\n",
        "    word_emb = model.embeddings.get_weights()[0]\n",
        "    for i in range(data.num_word):\n",
        "        c = \"blue\"\n",
        "        try:\n",
        "            int(data.i2v[i])\n",
        "        except ValueError:\n",
        "            c = \"red\"\n",
        "        plt.text(word_emb[i, 0], word_emb[i, 1], s=data.i2v[i], color=c, weight=\"bold\")\n",
        "    plt.xlim(word_emb[:, 0].min() - .5, word_emb[:, 0].max() + .5)\n",
        "    plt.ylim(word_emb[:, 1].min() - .5, word_emb[:, 1].max() + .5)\n",
        "    plt.xticks(())\n",
        "    plt.yticks(())\n",
        "    plt.xlabel(\"embedding dim1\")\n",
        "    plt.ylabel(\"embedding dim2\")\n",
        "    plt.show()"
      ],
      "metadata": {
        "id": "jGbZWb-h7vzF"
      },
      "execution_count": 9,
      "outputs": []
    },
    {
      "cell_type": "markdown",
      "source": [
        "**Process Words**"
      ],
      "metadata": {
        "id": "6u9yLqPV8D2t"
      }
    },
    {
      "cell_type": "code",
      "source": [
        "d = process_w2v_data(corpus, skip_window=2, method=\"cbow\") # D is the Dataset object"
      ],
      "metadata": {
        "colab": {
          "base_uri": "https://localhost:8080/"
        },
        "id": "kQcXagyx8FXU",
        "outputId": "e63b3667-fa61-44e5-f2c6-8d557316658a"
      },
      "execution_count": 10,
      "outputs": [
        {
          "output_type": "stream",
          "name": "stdout",
          "text": [
            "all vocabularies sorted from more frequent to less frequent:\n",
            " ['9' '3' 'o' '6' 'a' '1' 'i' 'g' 's' '4' 'l' 'k' '8' 'u' '2' 'd' '5' 'y'\n",
            " 'f' 'e' 'h' 'p' 'q' '0' 'j' '7' 't' 'r' 'w' 'n']\n",
            "5 example pairs:\n",
            " [[16 14 12  3  9]\n",
            " [14  9  3 14 12]\n",
            " [ 9 12 14  1  3]\n",
            " [12  3  1  3 14]\n",
            " [ 3 14  3  9  1]]\n"
          ]
        }
      ]
    },
    {
      "cell_type": "code",
      "source": [
        "m = CBOW(v_dim=d.num_word, emb_dim=2)"
      ],
      "metadata": {
        "id": "HRlVlPBj8rL_"
      },
      "execution_count": 11,
      "outputs": []
    },
    {
      "cell_type": "code",
      "source": [
        "train(model=m, data=d)"
      ],
      "metadata": {
        "colab": {
          "base_uri": "https://localhost:8080/"
        },
        "id": "jAtAm5e780us",
        "outputId": "c51e8733-54af-4565-d515-f3aeacccd00c"
      },
      "execution_count": 12,
      "outputs": [
        {
          "output_type": "stream",
          "name": "stdout",
          "text": [
            "step: 0 | loss: 10.43246078491211\n",
            "step: 200 | loss: 4.005064487457275\n",
            "step: 400 | loss: 2.4908549785614014\n",
            "step: 600 | loss: 2.5087735652923584\n",
            "step: 800 | loss: 2.1871142387390137\n",
            "step: 1000 | loss: 2.1817879676818848\n",
            "step: 1200 | loss: 2.5733275413513184\n",
            "step: 1400 | loss: 2.6166064739227295\n",
            "step: 1600 | loss: 2.6806259155273438\n",
            "step: 1800 | loss: 2.140188217163086\n",
            "step: 2000 | loss: 2.1616530418395996\n",
            "step: 2200 | loss: 2.819303512573242\n",
            "step: 2400 | loss: 2.1683509349823\n"
          ]
        }
      ]
    },
    {
      "cell_type": "markdown",
      "source": [
        "**Plotting**"
      ],
      "metadata": {
        "id": "kzJQ2JF19ZUk"
      }
    },
    {
      "cell_type": "code",
      "source": [
        "show_w2v_word_embedding(m, d)"
      ],
      "metadata": {
        "id": "wxJZnmTP9bZi",
        "colab": {
          "base_uri": "https://localhost:8080/",
          "height": 262
        },
        "outputId": "9e120e55-a8fb-41c9-f6a0-1d50234f2d0c"
      },
      "execution_count": 13,
      "outputs": [
        {
          "output_type": "display_data",
          "data": {
            "text/plain": [
              "<Figure size 432x288 with 1 Axes>"
            ],
            "image/png": "[encoded data removed]"
          },
          "metadata": {}
        }
      ]
    }
  ]
}