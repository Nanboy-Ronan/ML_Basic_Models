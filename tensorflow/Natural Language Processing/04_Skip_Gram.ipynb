{
  "nbformat": 4,
  "nbformat_minor": 0,
  "metadata": {
    "colab": {
      "name": "04.Skip-Gram.ipynb",
      "provenance": [],
      "collapsed_sections": []
    },
    "kernelspec": {
      "name": "python3",
      "display_name": "Python 3"
    },
    "language_info": {
      "name": "python"
    }
  },
  "cells": [
    {
      "cell_type": "markdown",
      "source": [
        "**Skip-Gram**"
      ],
      "metadata": {
        "id": "u26C-Z4_gaqV"
      }
    },
    {
      "cell_type": "code",
      "execution_count": 8,
      "metadata": {
        "id": "imUVsxhvfCo5"
      },
      "outputs": [],
      "source": [
        "from tensorflow import keras\n",
        "import tensorflow as tf\n",
        "import numpy as np\n",
        "import itertools"
      ]
    },
    {
      "cell_type": "code",
      "source": [
        "class Dataset:\n",
        "    def __init__(self, x, y, v2i, i2v):\n",
        "        self.x, self.y = x, y\n",
        "        self.v2i, self.i2v = v2i, i2v\n",
        "        self.vocab = v2i.keys()\n",
        "\n",
        "    def sample(self, n):\n",
        "        b_idx = np.random.randint(0, len(self.x), n)\n",
        "        bx, by = self.x[b_idx], self.y[b_idx]\n",
        "        return bx, by\n",
        "\n",
        "    @property\n",
        "    def num_word(self):\n",
        "        return len(self.v2i)"
      ],
      "metadata": {
        "id": "lPVn-dzkgfJU"
      },
      "execution_count": 2,
      "outputs": []
    },
    {
      "cell_type": "code",
      "source": [
        "def process_w2v_data(corpus, skip_window=2, method=\"skip_gram\"):\n",
        "    all_words = [sentence.split(\" \") for sentence in corpus]\n",
        "    all_words = np.array(list(itertools.chain(*all_words)))\n",
        "    # vocab sort by decreasing frequency for the negative sampling below (nce_loss).\n",
        "    vocab, v_count = np.unique(all_words, return_counts=True)\n",
        "    vocab = vocab[np.argsort(v_count)[::-1]]\n",
        "\n",
        "    print(\"all vocabularies sorted from more frequent to less frequent:\\n\", vocab)\n",
        "    v2i = {v: i for i, v in enumerate(vocab)}\n",
        "    i2v = {i: v for v, i in v2i.items()}\n",
        "\n",
        "    # pair data\n",
        "    pairs = []\n",
        "    js = [i for i in range(-skip_window, skip_window + 1) if i != 0]\n",
        "\n",
        "    for c in corpus:\n",
        "        words = c.split(\" \")\n",
        "        w_idx = [v2i[w] for w in words]\n",
        "        if method == \"skip_gram\":\n",
        "            for i in range(len(w_idx)):\n",
        "                for j in js:\n",
        "                    if i + j < 0 or i + j >= len(w_idx):\n",
        "                        continue\n",
        "                    pairs.append((w_idx[i], w_idx[i + j]))  # (center, context) or (feature, target)\n",
        "        elif method.lower() == \"cbow\":\n",
        "            for i in range(skip_window, len(w_idx) - skip_window):\n",
        "                context = []\n",
        "                for j in js:\n",
        "                    context.append(w_idx[i + j])\n",
        "                pairs.append(context + [w_idx[i]])  # (contexts, center) or (feature, target)\n",
        "        else:\n",
        "            raise ValueError\n",
        "    pairs = np.array(pairs)\n",
        "    print(\"5 example pairs:\\n\", pairs[:5])\n",
        "    if method.lower() == \"skip_gram\":\n",
        "        x, y = pairs[:, 0], pairs[:, 1]\n",
        "    elif method.lower() == \"cbow\":\n",
        "        x, y = pairs[:, :-1], pairs[:, -1]\n",
        "    else:\n",
        "        raise ValueError\n",
        "    return Dataset(x, y, v2i, i2v)"
      ],
      "metadata": {
        "id": "ptJHc1ejgwcs"
      },
      "execution_count": 3,
      "outputs": []
    },
    {
      "cell_type": "code",
      "source": [
        "corpus = [\n",
        "    # numbers\n",
        "    \"5 2 4 8 6 2 3 6 4\",\n",
        "    \"4 8 5 6 9 5 5 6\",\n",
        "    \"1 1 5 2 3 3 8\",\n",
        "    \"3 6 9 6 8 7 4 6 3\",\n",
        "    \"8 9 9 6 1 4 3 4\",\n",
        "    \"1 0 2 0 2 1 3 3 3 3 3\",\n",
        "    \"9 3 3 0 1 4 7 8\",\n",
        "    \"9 9 8 5 6 7 1 2 3 0 1 0\",\n",
        "\n",
        "    # alphabets, expecting that 9 is close to letters\n",
        "    \"a t g q e h 9 u f\",\n",
        "    \"e q y u o i p s\",\n",
        "    \"q o 9 p l k j o k k o p\",\n",
        "    \"h g y i u t t a e q\",\n",
        "    \"i k d q r e 9 e a d\",\n",
        "    \"o p d g 9 s a f g a\",\n",
        "    \"i u y g h k l a s w\",\n",
        "    \"o l u y a o g f s\",\n",
        "    \"o p i u y g d a s j d l\",\n",
        "    \"u k i l o 9 l j s\",\n",
        "    \"y g i s h k j l f r f\",\n",
        "    \"i o h n 9 9 d 9 f a 9\",\n",
        "]"
      ],
      "metadata": {
        "id": "vuqeAqxGg26k"
      },
      "execution_count": 4,
      "outputs": []
    },
    {
      "cell_type": "markdown",
      "source": [
        "**Skip-Gram Model**"
      ],
      "metadata": {
        "id": "3iv7aV0ShMGU"
      }
    },
    {
      "cell_type": "code",
      "source": [
        "class SkipGram(keras.Model):\n",
        "    def __init__(self, v_dim, emb_dim):\n",
        "        super().__init__()\n",
        "        self.v_dim = v_dim\n",
        "        self.embeddings = keras.layers.Embedding(\n",
        "            input_dim=v_dim, output_dim=emb_dim,       # [n_vocab, emb_dim]\n",
        "            embeddings_initializer=keras.initializers.RandomNormal(0., 0.1),\n",
        "        )\n",
        "\n",
        "        # noise-contrastive estimation\n",
        "        self.nce_w = self.add_weight(\n",
        "            name=\"nce_w\", shape=[v_dim, emb_dim],\n",
        "            initializer=keras.initializers.TruncatedNormal(0., 0.1))  # [n_vocab, emb_dim]\n",
        "        self.nce_b = self.add_weight(\n",
        "            name=\"nce_b\", shape=(v_dim,),\n",
        "            initializer=keras.initializers.Constant(0.1))  # [n_vocab, ]\n",
        "\n",
        "        self.opt = keras.optimizers.Adam(0.01)\n",
        "\n",
        "    def call(self, x, training=None, mask=None):\n",
        "        # x.shape = [n, ]\n",
        "        o = self.embeddings(x)      # [n, emb_dim]\n",
        "        return o\n",
        "\n",
        "    # negative sampling: take one positive label and num_sampled negative labels to compute the loss\n",
        "    # in order to reduce the computation of full softmax\n",
        "    def loss(self, x, y, training=None):\n",
        "        embedded = self.call(x, training)\n",
        "        return tf.reduce_mean(\n",
        "            tf.nn.nce_loss(\n",
        "                weights=self.nce_w, biases=self.nce_b, labels=tf.expand_dims(y, axis=1),\n",
        "                inputs=embedded, num_sampled=5, num_classes=self.v_dim))\n",
        "\n",
        "    def step(self, x, y):\n",
        "        with tf.GradientTape() as tape:\n",
        "            loss = self.loss(x, y, True)\n",
        "            grads = tape.gradient(loss, self.trainable_variables)\n",
        "        self.opt.apply_gradients(zip(grads, self.trainable_variables))\n",
        "        return loss.numpy()"
      ],
      "metadata": {
        "id": "2sc3U9cHhLLm"
      },
      "execution_count": 5,
      "outputs": []
    },
    {
      "cell_type": "code",
      "source": [
        "def train(model, data):\n",
        "    for t in range(2500):\n",
        "        bx, by = data.sample(8)\n",
        "        loss = model.step(bx, by)\n",
        "        if t % 200 == 0:\n",
        "            print(\"step: {} | loss: {}\".format(t, loss))"
      ],
      "metadata": {
        "id": "30aXyCnBhl1n"
      },
      "execution_count": 6,
      "outputs": []
    },
    {
      "cell_type": "markdown",
      "source": [
        "**Process**"
      ],
      "metadata": {
        "id": "gJNO_54-hnIL"
      }
    },
    {
      "cell_type": "code",
      "source": [
        "d = process_w2v_data(corpus, skip_window=2, method=\"skip_gram\")\n",
        "d"
      ],
      "metadata": {
        "colab": {
          "base_uri": "https://localhost:8080/"
        },
        "id": "5nLYe3S_hojE",
        "outputId": "e81c6f85-1c09-48fa-cf63-43080d56d97f"
      },
      "execution_count": 9,
      "outputs": [
        {
          "output_type": "stream",
          "name": "stdout",
          "text": [
            "all vocabularies sorted from more frequent to less frequent:\n",
            " ['9' '3' 'o' '6' 'a' '1' 'i' 'g' 's' '4' 'l' 'k' '8' 'u' '2' 'd' '5' 'y'\n",
            " 'f' 'e' 'h' 'p' 'q' '0' 'j' '7' 't' 'r' 'w' 'n']\n",
            "5 example pairs:\n",
            " [[16 14]\n",
            " [16  9]\n",
            " [14 16]\n",
            " [14  9]\n",
            " [14 12]]\n"
          ]
        },
        {
          "output_type": "execute_result",
          "data": {
            "text/plain": [
              "<__main__.Dataset at 0x7f61da3d2950>"
            ]
          },
          "metadata": {},
          "execution_count": 9
        }
      ]
    },
    {
      "cell_type": "code",
      "source": [
        "m = SkipGram(d.num_word, 2)"
      ],
      "metadata": {
        "id": "mDBNKgI0h16j"
      },
      "execution_count": 10,
      "outputs": []
    },
    {
      "cell_type": "code",
      "source": [
        "train(model=m,data=d)"
      ],
      "metadata": {
        "colab": {
          "base_uri": "https://localhost:8080/"
        },
        "id": "qzBOwC4Tisxj",
        "outputId": "2f553a16-497f-4c2f-f082-7dbeca06f888"
      },
      "execution_count": 11,
      "outputs": [
        {
          "output_type": "stream",
          "name": "stdout",
          "text": [
            "step: 0 | loss: 5.946027755737305\n",
            "step: 200 | loss: 2.8823986053466797\n",
            "step: 400 | loss: 2.6079299449920654\n",
            "step: 600 | loss: 2.9627768993377686\n",
            "step: 800 | loss: 2.55483341217041\n",
            "step: 1000 | loss: 2.5986528396606445\n",
            "step: 1200 | loss: 2.3097195625305176\n",
            "step: 1400 | loss: 2.810511589050293\n",
            "step: 1600 | loss: 2.3073134422302246\n",
            "step: 1800 | loss: 2.386871814727783\n",
            "step: 2000 | loss: 2.0080699920654297\n",
            "step: 2200 | loss: 1.7148692607879639\n",
            "step: 2400 | loss: 1.8562114238739014\n"
          ]
        }
      ]
    },
    {
      "cell_type": "markdown",
      "source": [
        "**Plotting**"
      ],
      "metadata": {
        "id": "E3LSAallinAT"
      }
    },
    {
      "cell_type": "code",
      "source": [
        "import matplotlib.pyplot as plt"
      ],
      "metadata": {
        "id": "XgpmGmmAi_vq"
      },
      "execution_count": 12,
      "outputs": []
    },
    {
      "cell_type": "code",
      "source": [
        "def show_w2v_word_embedding(model, data, path=None):\n",
        "    word_emb = model.embeddings.get_weights()[0]\n",
        "    for i in range(data.num_word):\n",
        "        c = \"blue\"\n",
        "        try:\n",
        "            int(data.i2v[i])\n",
        "        except ValueError:\n",
        "            c = \"red\"\n",
        "        plt.text(word_emb[i, 0], word_emb[i, 1], s=data.i2v[i], color=c, weight=\"bold\")\n",
        "    plt.xlim(word_emb[:, 0].min() - .5, word_emb[:, 0].max() + .5)\n",
        "    plt.ylim(word_emb[:, 1].min() - .5, word_emb[:, 1].max() + .5)\n",
        "    plt.xticks(())\n",
        "    plt.yticks(())\n",
        "    plt.xlabel(\"embedding dim1\")\n",
        "    plt.ylabel(\"embedding dim2\")\n",
        "    plt.show()"
      ],
      "metadata": {
        "id": "hewmiKSIjBRy"
      },
      "execution_count": 13,
      "outputs": []
    },
    {
      "cell_type": "code",
      "source": [
        "show_w2v_word_embedding(model=m, data=d)"
      ],
      "metadata": {
        "colab": {
          "base_uri": "https://localhost:8080/",
          "height": 262
        },
        "id": "jCrvVAKojD4M",
        "outputId": "643afbbf-2316-4a87-fc9f-afbb2d22e23a"
      },
      "execution_count": 15,
      "outputs": [
        {
          "output_type": "display_data",
          "data": {
            "text/plain": [
              "<Figure size 432x288 with 1 Axes>"
            ],
            "image/png": "[encoded data removed]"
          },
          "metadata": {}
        }
      ]
    }
  ]
}