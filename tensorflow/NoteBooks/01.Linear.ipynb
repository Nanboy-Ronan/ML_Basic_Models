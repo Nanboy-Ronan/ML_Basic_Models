{
  "nbformat": 4,
  "nbformat_minor": 0,
  "metadata": {
    "colab": {
      "name": "Linear (tensorflow).ipynb",
      "provenance": []
    },
    "kernelspec": {
      "name": "python3",
      "display_name": "Python 3"
    },
    "language_info": {
      "name": "python"
    }
  },
  "cells": [
    {
      "cell_type": "code",
      "source": [
        "%tensorflow_version 1.x"
      ],
      "metadata": {
        "colab": {
          "base_uri": "https://localhost:8080/"
        },
        "id": "PRX_9R-m17M-",
        "outputId": "1e01afcf-ff23-4bba-8861-f45ac2f754e0"
      },
      "execution_count": 1,
      "outputs": [
        {
          "output_type": "stream",
          "name": "stdout",
          "text": [
            "TensorFlow 1.x selected.\n"
          ]
        }
      ]
    },
    {
      "cell_type": "code",
      "execution_count": 2,
      "metadata": {
        "id": "HZB5qo2l6tyR"
      },
      "outputs": [],
      "source": [
        "import tensorflow as tf\n",
        "import numpy as np"
      ]
    },
    {
      "cell_type": "markdown",
      "source": [
        "**Fake Data**"
      ],
      "metadata": {
        "id": "aNgwuYPZ7EcS"
      }
    },
    {
      "cell_type": "code",
      "source": [
        "x_data = np.random.rand(100).astype(np.float32)\n",
        "y_data = x_data*2 + 5"
      ],
      "metadata": {
        "id": "xFoeW2dp65uZ"
      },
      "execution_count": 3,
      "outputs": []
    },
    {
      "cell_type": "markdown",
      "source": [
        "**Tensorflow Structure**"
      ],
      "metadata": {
        "id": "Dafh26Bc7IYp"
      }
    },
    {
      "cell_type": "code",
      "source": [
        "Weights = tf.Variable(tf.random_uniform([1],-1.0,1.0))\n",
        "biases = tf.Variable(tf.zeros([1]))\n",
        "\n",
        "print('Weights: ', Weights)\n",
        "print('biases: ', biases)"
      ],
      "metadata": {
        "colab": {
          "base_uri": "https://localhost:8080/"
        },
        "id": "jum9sQUP7H6D",
        "outputId": "91ceaf57-eae5-4196-b850-927c151a4f68"
      },
      "execution_count": 4,
      "outputs": [
        {
          "output_type": "stream",
          "name": "stdout",
          "text": [
            "Weights:  <tf.Variable 'Variable:0' shape=(1,) dtype=float32_ref>\n",
            "biases:  <tf.Variable 'Variable_1:0' shape=(1,) dtype=float32_ref>\n"
          ]
        }
      ]
    },
    {
      "cell_type": "markdown",
      "source": [
        "**Prediction**"
      ],
      "metadata": {
        "id": "aS_uz6M2aeHv"
      }
    },
    {
      "cell_type": "code",
      "source": [
        "y = Weights*x_data + biases"
      ],
      "metadata": {
        "id": "pzWdXAL4aZmX"
      },
      "execution_count": 5,
      "outputs": []
    },
    {
      "cell_type": "markdown",
      "source": [
        "**Loss and Optimizer**"
      ],
      "metadata": {
        "id": "5Y5T37wpahxf"
      }
    },
    {
      "cell_type": "code",
      "source": [
        "loss = tf.reduce_mean(tf.square(y-y_data))\n",
        "optimizer = tf.train.GradientDescentOptimizer(learning_rate=0.5)\n",
        "train = optimizer.minimize(loss=loss)"
      ],
      "metadata": {
        "id": "WRUN8SUhahT-"
      },
      "execution_count": 6,
      "outputs": []
    },
    {
      "cell_type": "code",
      "source": [
        "init = tf.initialize_all_variables()"
      ],
      "metadata": {
        "colab": {
          "base_uri": "https://localhost:8080/"
        },
        "id": "nqo838GQ4TT8",
        "outputId": "f3efad38-e34c-4234-e9c1-ddc3a8a324ec"
      },
      "execution_count": 7,
      "outputs": [
        {
          "output_type": "stream",
          "name": "stdout",
          "text": [
            "WARNING:tensorflow:From /tensorflow-1.15.2/python3.7/tensorflow_core/python/util/tf_should_use.py:198: initialize_all_variables (from tensorflow.python.ops.variables) is deprecated and will be removed after 2017-03-02.\n",
            "Instructions for updating:\n",
            "Use `tf.global_variables_initializer` instead.\n"
          ]
        }
      ]
    },
    {
      "cell_type": "markdown",
      "source": [
        "**Initialize Session**"
      ],
      "metadata": {
        "id": "EUk_mi7k4ijJ"
      }
    },
    {
      "cell_type": "code",
      "source": [
        "sess = tf.Session()\n",
        "sess.run(init)"
      ],
      "metadata": {
        "id": "V4Ny5M2q4sZh"
      },
      "execution_count": 8,
      "outputs": []
    },
    {
      "cell_type": "markdown",
      "source": [
        "**Training Loop**"
      ],
      "metadata": {
        "id": "oxyKncIt510b"
      }
    },
    {
      "cell_type": "code",
      "source": [
        "for epoch in range(201):\n",
        "  sess.run(train)\n",
        "  if epoch % 20 == 0:\n",
        "    print('epoch %f, Weight %f. Biases %f' %(epoch, sess.run(Weights),sess.run(biases)))"
      ],
      "metadata": {
        "colab": {
          "base_uri": "https://localhost:8080/"
        },
        "id": "QAzw_g7w44tE",
        "outputId": "4f452e00-3a96-47dd-8a73-cbc352c8880c"
      },
      "execution_count": 9,
      "outputs": [
        {
          "output_type": "stream",
          "name": "stdout",
          "text": [
            "epoch 0.000000, Weight 2.748633. Biases 6.060523\n",
            "epoch 20.000000, Weight 2.044850. Biases 4.977560\n",
            "epoch 40.000000, Weight 2.011537. Biases 4.994227\n",
            "epoch 60.000000, Weight 2.002968. Biases 4.998515\n",
            "epoch 80.000000, Weight 2.000763. Biases 4.999618\n",
            "epoch 100.000000, Weight 2.000197. Biases 4.999902\n",
            "epoch 120.000000, Weight 2.000051. Biases 4.999975\n",
            "epoch 140.000000, Weight 2.000013. Biases 4.999993\n",
            "epoch 160.000000, Weight 2.000003. Biases 4.999998\n",
            "epoch 180.000000, Weight 2.000002. Biases 4.999999\n",
            "epoch 200.000000, Weight 2.000002. Biases 4.999999\n"
          ]
        }
      ]
    }
  ]
}