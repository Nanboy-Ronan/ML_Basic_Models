{
  "nbformat": 4,
  "nbformat_minor": 0,
  "metadata": {
    "colab": {
      "name": "Session.ipynb",
      "provenance": []
    },
    "kernelspec": {
      "name": "python3",
      "display_name": "Python 3"
    },
    "language_info": {
      "name": "python"
    }
  },
  "cells": [
    {
      "cell_type": "code",
      "execution_count": 1,
      "metadata": {
        "colab": {
          "base_uri": "https://localhost:8080/"
        },
        "id": "Ux5840LO6iCF",
        "outputId": "5c485214-20cc-4849-fdee-50c58365e8ec"
      },
      "outputs": [
        {
          "output_type": "stream",
          "name": "stdout",
          "text": [
            "TensorFlow 1.x selected.\n"
          ]
        }
      ],
      "source": [
        "%tensorflow_version 1.x"
      ]
    },
    {
      "cell_type": "code",
      "source": [
        "import tensorflow as tf"
      ],
      "metadata": {
        "id": "jgMl0pIn6mcn"
      },
      "execution_count": 2,
      "outputs": []
    },
    {
      "cell_type": "markdown",
      "source": [
        "**Fake Data**"
      ],
      "metadata": {
        "id": "vM4acGEC74Uf"
      }
    },
    {
      "cell_type": "code",
      "source": [
        "matrix1 = tf.constant([[3,3]])\n",
        "matrix2 = tf.constant([[2],\n",
        "            [2]])"
      ],
      "metadata": {
        "id": "uY1IOqlq6oh3"
      },
      "execution_count": 3,
      "outputs": []
    },
    {
      "cell_type": "code",
      "source": [
        "product = tf.matmul(matrix1,matrix2)"
      ],
      "metadata": {
        "id": "P93mP9Wp630C"
      },
      "execution_count": 4,
      "outputs": []
    },
    {
      "cell_type": "markdown",
      "source": [
        "**Method 1**"
      ],
      "metadata": {
        "id": "JQwmgPO77g92"
      }
    },
    {
      "cell_type": "code",
      "source": [
        "sess = tf.Session()\n",
        "result = sess.run(product)\n",
        "print(result)\n",
        "sess.close()"
      ],
      "metadata": {
        "colab": {
          "base_uri": "https://localhost:8080/"
        },
        "id": "uDk19-Kp7J_3",
        "outputId": "5939d0e9-b2b4-47e1-c21c-09c116bd2bb6"
      },
      "execution_count": 6,
      "outputs": [
        {
          "output_type": "stream",
          "name": "stdout",
          "text": [
            "[[12]]\n"
          ]
        }
      ]
    },
    {
      "cell_type": "markdown",
      "source": [
        "**Method 2**"
      ],
      "metadata": {
        "id": "W_xP1IAL7kdo"
      }
    },
    {
      "cell_type": "code",
      "source": [
        "with tf.Session() as sess:\n",
        "  result = sess.run(product)\n",
        "  print(result)"
      ],
      "metadata": {
        "colab": {
          "base_uri": "https://localhost:8080/"
        },
        "id": "KkkQy41e7jye",
        "outputId": "ed9352fd-2a9c-42be-9a79-1a55239f29b3"
      },
      "execution_count": 7,
      "outputs": [
        {
          "output_type": "stream",
          "name": "stdout",
          "text": [
            "[[12]]\n"
          ]
        }
      ]
    }
  ]
}