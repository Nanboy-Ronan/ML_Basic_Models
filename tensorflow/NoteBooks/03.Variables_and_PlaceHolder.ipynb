{
  "nbformat": 4,
  "nbformat_minor": 0,
  "metadata": {
    "colab": {
      "name": "Variables and PlaceHolder.ipynb",
      "provenance": []
    },
    "kernelspec": {
      "name": "python3",
      "display_name": "Python 3"
    },
    "language_info": {
      "name": "python"
    }
  },
  "cells": [
    {
      "cell_type": "code",
      "execution_count": 1,
      "metadata": {
        "colab": {
          "base_uri": "https://localhost:8080/"
        },
        "id": "UxrZib1CFKtz",
        "outputId": "e3f6b586-d6cf-48a4-9d51-be1557fb5527"
      },
      "outputs": [
        {
          "output_type": "stream",
          "name": "stdout",
          "text": [
            "TensorFlow 1.x selected.\n"
          ]
        }
      ],
      "source": [
        "%tensorflow_version 1.x"
      ]
    },
    {
      "cell_type": "code",
      "source": [
        "import tensorflow as tf"
      ],
      "metadata": {
        "id": "qmPhg0LpFTme"
      },
      "execution_count": 2,
      "outputs": []
    },
    {
      "cell_type": "markdown",
      "source": [
        "**Initialize Variable**"
      ],
      "metadata": {
        "id": "30zgu6aKG2Ff"
      }
    },
    {
      "cell_type": "code",
      "source": [
        "state = tf.Variable(initial_value=0,name='counter')\n",
        "print(state.name)"
      ],
      "metadata": {
        "colab": {
          "base_uri": "https://localhost:8080/"
        },
        "id": "DJ7ODIXMFVv_",
        "outputId": "60798f90-78df-4f3f-f524-1b375479a7ff"
      },
      "execution_count": 3,
      "outputs": [
        {
          "output_type": "stream",
          "name": "stdout",
          "text": [
            "counter:0\n"
          ]
        }
      ]
    },
    {
      "cell_type": "code",
      "source": [
        "one = tf.constant(1)"
      ],
      "metadata": {
        "id": "X34KZgrHFp6D"
      },
      "execution_count": 5,
      "outputs": []
    },
    {
      "cell_type": "code",
      "source": [
        "new_value = tf.add(state,one)"
      ],
      "metadata": {
        "id": "GanSYMW1FszY"
      },
      "execution_count": 6,
      "outputs": []
    },
    {
      "cell_type": "markdown",
      "source": [
        "**Assign new_value to state**"
      ],
      "metadata": {
        "id": "pxK7_iUjG6mv"
      }
    },
    {
      "cell_type": "code",
      "source": [
        "update = tf.assign(state,new_value)"
      ],
      "metadata": {
        "id": "4agrhokiF0oe"
      },
      "execution_count": 7,
      "outputs": []
    },
    {
      "cell_type": "code",
      "source": [
        "init = tf.initialize_all_variables()"
      ],
      "metadata": {
        "colab": {
          "base_uri": "https://localhost:8080/"
        },
        "id": "Gk7dSSLLGQRU",
        "outputId": "82a5de1e-58b1-4536-9c2c-7cdfc9157096"
      },
      "execution_count": 8,
      "outputs": [
        {
          "output_type": "stream",
          "name": "stdout",
          "text": [
            "WARNING:tensorflow:From /tensorflow-1.15.2/python3.7/tensorflow_core/python/util/tf_should_use.py:198: initialize_all_variables (from tensorflow.python.ops.variables) is deprecated and will be removed after 2017-03-02.\n",
            "Instructions for updating:\n",
            "Use `tf.global_variables_initializer` instead.\n"
          ]
        }
      ]
    },
    {
      "cell_type": "code",
      "source": [
        "with tf.Session() as sess:\n",
        "  sess.run(init)\n",
        "  for _ in range(3):\n",
        "    sess.run(update)\n",
        "    print(sess.run(state))"
      ],
      "metadata": {
        "colab": {
          "base_uri": "https://localhost:8080/"
        },
        "id": "R3B9BKtiGePr",
        "outputId": "f8676921-eb15-481a-bdcf-359fceea9616"
      },
      "execution_count": 9,
      "outputs": [
        {
          "output_type": "stream",
          "name": "stdout",
          "text": [
            "1\n",
            "2\n",
            "3\n"
          ]
        }
      ]
    },
    {
      "cell_type": "markdown",
      "source": [
        "**PlaceHolder**"
      ],
      "metadata": {
        "id": "rvHwtW8RHVub"
      }
    },
    {
      "cell_type": "code",
      "source": [
        "from numpy import dtype\n",
        "input1 = tf.placeholder(dtype=tf.float32)\n",
        "input2 = tf.placeholder(dtype=tf.float32)"
      ],
      "metadata": {
        "id": "vRDwifQzHX2w"
      },
      "execution_count": 10,
      "outputs": []
    },
    {
      "cell_type": "code",
      "source": [
        "output = input1 * input2"
      ],
      "metadata": {
        "id": "MFxrG1brHkwy"
      },
      "execution_count": 13,
      "outputs": []
    },
    {
      "cell_type": "code",
      "source": [
        "with tf.Session() as sess:\n",
        "  print(sess.run(output,feed_dict={input1:[7.],input2:[2.]}))"
      ],
      "metadata": {
        "colab": {
          "base_uri": "https://localhost:8080/"
        },
        "id": "XiUkRxCPHokX",
        "outputId": "cd053799-0a28-4280-d260-cc8de640f8ff"
      },
      "execution_count": 14,
      "outputs": [
        {
          "output_type": "stream",
          "name": "stdout",
          "text": [
            "[14.]\n"
          ]
        }
      ]
    }
  ]
}